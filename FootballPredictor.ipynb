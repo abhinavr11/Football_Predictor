{
  "nbformat": 4,
  "nbformat_minor": 0,
  "metadata": {
    "colab": {
      "name": "FootballPredictor.ipynb",
      "provenance": [],
      "collapsed_sections": []
    },
    "kernelspec": {
      "display_name": "Python 3",
      "name": "python3"
    },
    "language_info": {
      "name": "python"
    }
  },
  "cells": [
    {
      "cell_type": "code",
      "metadata": {
        "id": "dxWsPRF0XeEz"
      },
      "source": [
        "import pandas as pd\n",
        "import numpy as np"
      ],
      "execution_count": null,
      "outputs": []
    },
    {
      "cell_type": "code",
      "metadata": {
        "id": "s84XvQEjXhV-"
      },
      "source": [
        "data = pd.read_csv(\"results.csv\")"
      ],
      "execution_count": null,
      "outputs": []
    },
    {
      "cell_type": "code",
      "metadata": {
        "colab": {
          "base_uri": "https://localhost:8080/",
          "height": 402
        },
        "id": "sXv3Oew8Xtdz",
        "outputId": "e98f6fe2-aba4-495d-bc62-16a841b8e5f1"
      },
      "source": [
        "data"
      ],
      "execution_count": null,
      "outputs": [
        {
          "data": {
            "text/html": [
              "<div>\n",
              "<style scoped>\n",
              "    .dataframe tbody tr th:only-of-type {\n",
              "        vertical-align: middle;\n",
              "    }\n",
              "\n",
              "    .dataframe tbody tr th {\n",
              "        vertical-align: top;\n",
              "    }\n",
              "\n",
              "    .dataframe thead th {\n",
              "        text-align: right;\n",
              "    }\n",
              "</style>\n",
              "<table border=\"1\" class=\"dataframe\">\n",
              "  <thead>\n",
              "    <tr style=\"text-align: right;\">\n",
              "      <th></th>\n",
              "      <th>date</th>\n",
              "      <th>home_team</th>\n",
              "      <th>away_team</th>\n",
              "      <th>home_score</th>\n",
              "      <th>away_score</th>\n",
              "      <th>tournament</th>\n",
              "      <th>city</th>\n",
              "      <th>country</th>\n",
              "      <th>neutral</th>\n",
              "    </tr>\n",
              "  </thead>\n",
              "  <tbody>\n",
              "    <tr>\n",
              "      <th>0</th>\n",
              "      <td>1872-11-30</td>\n",
              "      <td>Scotland</td>\n",
              "      <td>England</td>\n",
              "      <td>0</td>\n",
              "      <td>0</td>\n",
              "      <td>Friendly</td>\n",
              "      <td>Glasgow</td>\n",
              "      <td>Scotland</td>\n",
              "      <td>False</td>\n",
              "    </tr>\n",
              "    <tr>\n",
              "      <th>1</th>\n",
              "      <td>1873-03-08</td>\n",
              "      <td>England</td>\n",
              "      <td>Scotland</td>\n",
              "      <td>4</td>\n",
              "      <td>2</td>\n",
              "      <td>Friendly</td>\n",
              "      <td>London</td>\n",
              "      <td>England</td>\n",
              "      <td>False</td>\n",
              "    </tr>\n",
              "    <tr>\n",
              "      <th>2</th>\n",
              "      <td>1874-03-07</td>\n",
              "      <td>Scotland</td>\n",
              "      <td>England</td>\n",
              "      <td>2</td>\n",
              "      <td>1</td>\n",
              "      <td>Friendly</td>\n",
              "      <td>Glasgow</td>\n",
              "      <td>Scotland</td>\n",
              "      <td>False</td>\n",
              "    </tr>\n",
              "    <tr>\n",
              "      <th>3</th>\n",
              "      <td>1875-03-06</td>\n",
              "      <td>England</td>\n",
              "      <td>Scotland</td>\n",
              "      <td>2</td>\n",
              "      <td>2</td>\n",
              "      <td>Friendly</td>\n",
              "      <td>London</td>\n",
              "      <td>England</td>\n",
              "      <td>False</td>\n",
              "    </tr>\n",
              "    <tr>\n",
              "      <th>4</th>\n",
              "      <td>1876-03-04</td>\n",
              "      <td>Scotland</td>\n",
              "      <td>England</td>\n",
              "      <td>3</td>\n",
              "      <td>0</td>\n",
              "      <td>Friendly</td>\n",
              "      <td>Glasgow</td>\n",
              "      <td>Scotland</td>\n",
              "      <td>False</td>\n",
              "    </tr>\n",
              "    <tr>\n",
              "      <th>...</th>\n",
              "      <td>...</td>\n",
              "      <td>...</td>\n",
              "      <td>...</td>\n",
              "      <td>...</td>\n",
              "      <td>...</td>\n",
              "      <td>...</td>\n",
              "      <td>...</td>\n",
              "      <td>...</td>\n",
              "      <td>...</td>\n",
              "    </tr>\n",
              "    <tr>\n",
              "      <th>42079</th>\n",
              "      <td>2021-03-31</td>\n",
              "      <td>Andorra</td>\n",
              "      <td>Hungary</td>\n",
              "      <td>1</td>\n",
              "      <td>4</td>\n",
              "      <td>FIFA World Cup qualification</td>\n",
              "      <td>Andorra la Vella</td>\n",
              "      <td>Andorra</td>\n",
              "      <td>False</td>\n",
              "    </tr>\n",
              "    <tr>\n",
              "      <th>42080</th>\n",
              "      <td>2021-03-31</td>\n",
              "      <td>San Marino</td>\n",
              "      <td>Albania</td>\n",
              "      <td>0</td>\n",
              "      <td>2</td>\n",
              "      <td>FIFA World Cup qualification</td>\n",
              "      <td>Serravalle</td>\n",
              "      <td>San Marino</td>\n",
              "      <td>False</td>\n",
              "    </tr>\n",
              "    <tr>\n",
              "      <th>42081</th>\n",
              "      <td>2021-03-31</td>\n",
              "      <td>Armenia</td>\n",
              "      <td>Romania</td>\n",
              "      <td>3</td>\n",
              "      <td>2</td>\n",
              "      <td>FIFA World Cup qualification</td>\n",
              "      <td>Yerevan</td>\n",
              "      <td>Armenia</td>\n",
              "      <td>False</td>\n",
              "    </tr>\n",
              "    <tr>\n",
              "      <th>42082</th>\n",
              "      <td>2021-03-31</td>\n",
              "      <td>Germany</td>\n",
              "      <td>North Macedonia</td>\n",
              "      <td>1</td>\n",
              "      <td>2</td>\n",
              "      <td>FIFA World Cup qualification</td>\n",
              "      <td>Duisburg</td>\n",
              "      <td>Germany</td>\n",
              "      <td>False</td>\n",
              "    </tr>\n",
              "    <tr>\n",
              "      <th>42083</th>\n",
              "      <td>2021-03-31</td>\n",
              "      <td>Liechtenstein</td>\n",
              "      <td>Iceland</td>\n",
              "      <td>1</td>\n",
              "      <td>4</td>\n",
              "      <td>FIFA World Cup qualification</td>\n",
              "      <td>Vaduz</td>\n",
              "      <td>Liechtenstein</td>\n",
              "      <td>False</td>\n",
              "    </tr>\n",
              "  </tbody>\n",
              "</table>\n",
              "<p>42084 rows × 9 columns</p>\n",
              "</div>"
            ],
            "text/plain": [
              "             date      home_team  ...        country  neutral\n",
              "0      1872-11-30       Scotland  ...       Scotland    False\n",
              "1      1873-03-08        England  ...        England    False\n",
              "2      1874-03-07       Scotland  ...       Scotland    False\n",
              "3      1875-03-06        England  ...        England    False\n",
              "4      1876-03-04       Scotland  ...       Scotland    False\n",
              "...           ...            ...  ...            ...      ...\n",
              "42079  2021-03-31        Andorra  ...        Andorra    False\n",
              "42080  2021-03-31     San Marino  ...     San Marino    False\n",
              "42081  2021-03-31        Armenia  ...        Armenia    False\n",
              "42082  2021-03-31        Germany  ...        Germany    False\n",
              "42083  2021-03-31  Liechtenstein  ...  Liechtenstein    False\n",
              "\n",
              "[42084 rows x 9 columns]"
            ]
          },
          "execution_count": 39,
          "metadata": {
            "tags": []
          },
          "output_type": "execute_result"
        }
      ]
    },
    {
      "cell_type": "code",
      "metadata": {
        "id": "sOrCtdcKYjYZ"
      },
      "source": [
        "x=[]\n",
        "\n",
        "for h,a in data.iterrows():\n",
        "    \n",
        "    if a['home_score'] > a['away_score']:\n",
        "            x.append(1)\n",
        "            \n",
        "    elif a['home_score'] < a['away_score']:\n",
        "            \n",
        "            x.append(0)\n",
        "    else:\n",
        "        x.append(2)   "
      ],
      "execution_count": null,
      "outputs": []
    },
    {
      "cell_type": "code",
      "metadata": {
        "id": "Iuxbp1WQZgvm"
      },
      "source": [
        "#x"
      ],
      "execution_count": null,
      "outputs": []
    },
    {
      "cell_type": "code",
      "metadata": {
        "colab": {
          "base_uri": "https://localhost:8080/",
          "height": 402
        },
        "id": "5viCjLfiZ6MQ",
        "outputId": "4881baa1-a7f5-4f97-c7ff-3de5921f2444"
      },
      "source": [
        "data=data.rename(columns={'date':'result'})\n",
        "\n",
        "data"
      ],
      "execution_count": null,
      "outputs": [
        {
          "data": {
            "text/html": [
              "<div>\n",
              "<style scoped>\n",
              "    .dataframe tbody tr th:only-of-type {\n",
              "        vertical-align: middle;\n",
              "    }\n",
              "\n",
              "    .dataframe tbody tr th {\n",
              "        vertical-align: top;\n",
              "    }\n",
              "\n",
              "    .dataframe thead th {\n",
              "        text-align: right;\n",
              "    }\n",
              "</style>\n",
              "<table border=\"1\" class=\"dataframe\">\n",
              "  <thead>\n",
              "    <tr style=\"text-align: right;\">\n",
              "      <th></th>\n",
              "      <th>result</th>\n",
              "      <th>home_team</th>\n",
              "      <th>away_team</th>\n",
              "      <th>home_score</th>\n",
              "      <th>away_score</th>\n",
              "      <th>tournament</th>\n",
              "      <th>city</th>\n",
              "      <th>country</th>\n",
              "      <th>neutral</th>\n",
              "    </tr>\n",
              "  </thead>\n",
              "  <tbody>\n",
              "    <tr>\n",
              "      <th>0</th>\n",
              "      <td>1872-11-30</td>\n",
              "      <td>Scotland</td>\n",
              "      <td>England</td>\n",
              "      <td>0</td>\n",
              "      <td>0</td>\n",
              "      <td>Friendly</td>\n",
              "      <td>Glasgow</td>\n",
              "      <td>Scotland</td>\n",
              "      <td>False</td>\n",
              "    </tr>\n",
              "    <tr>\n",
              "      <th>1</th>\n",
              "      <td>1873-03-08</td>\n",
              "      <td>England</td>\n",
              "      <td>Scotland</td>\n",
              "      <td>4</td>\n",
              "      <td>2</td>\n",
              "      <td>Friendly</td>\n",
              "      <td>London</td>\n",
              "      <td>England</td>\n",
              "      <td>False</td>\n",
              "    </tr>\n",
              "    <tr>\n",
              "      <th>2</th>\n",
              "      <td>1874-03-07</td>\n",
              "      <td>Scotland</td>\n",
              "      <td>England</td>\n",
              "      <td>2</td>\n",
              "      <td>1</td>\n",
              "      <td>Friendly</td>\n",
              "      <td>Glasgow</td>\n",
              "      <td>Scotland</td>\n",
              "      <td>False</td>\n",
              "    </tr>\n",
              "    <tr>\n",
              "      <th>3</th>\n",
              "      <td>1875-03-06</td>\n",
              "      <td>England</td>\n",
              "      <td>Scotland</td>\n",
              "      <td>2</td>\n",
              "      <td>2</td>\n",
              "      <td>Friendly</td>\n",
              "      <td>London</td>\n",
              "      <td>England</td>\n",
              "      <td>False</td>\n",
              "    </tr>\n",
              "    <tr>\n",
              "      <th>4</th>\n",
              "      <td>1876-03-04</td>\n",
              "      <td>Scotland</td>\n",
              "      <td>England</td>\n",
              "      <td>3</td>\n",
              "      <td>0</td>\n",
              "      <td>Friendly</td>\n",
              "      <td>Glasgow</td>\n",
              "      <td>Scotland</td>\n",
              "      <td>False</td>\n",
              "    </tr>\n",
              "    <tr>\n",
              "      <th>...</th>\n",
              "      <td>...</td>\n",
              "      <td>...</td>\n",
              "      <td>...</td>\n",
              "      <td>...</td>\n",
              "      <td>...</td>\n",
              "      <td>...</td>\n",
              "      <td>...</td>\n",
              "      <td>...</td>\n",
              "      <td>...</td>\n",
              "    </tr>\n",
              "    <tr>\n",
              "      <th>42079</th>\n",
              "      <td>2021-03-31</td>\n",
              "      <td>Andorra</td>\n",
              "      <td>Hungary</td>\n",
              "      <td>1</td>\n",
              "      <td>4</td>\n",
              "      <td>FIFA World Cup qualification</td>\n",
              "      <td>Andorra la Vella</td>\n",
              "      <td>Andorra</td>\n",
              "      <td>False</td>\n",
              "    </tr>\n",
              "    <tr>\n",
              "      <th>42080</th>\n",
              "      <td>2021-03-31</td>\n",
              "      <td>San Marino</td>\n",
              "      <td>Albania</td>\n",
              "      <td>0</td>\n",
              "      <td>2</td>\n",
              "      <td>FIFA World Cup qualification</td>\n",
              "      <td>Serravalle</td>\n",
              "      <td>San Marino</td>\n",
              "      <td>False</td>\n",
              "    </tr>\n",
              "    <tr>\n",
              "      <th>42081</th>\n",
              "      <td>2021-03-31</td>\n",
              "      <td>Armenia</td>\n",
              "      <td>Romania</td>\n",
              "      <td>3</td>\n",
              "      <td>2</td>\n",
              "      <td>FIFA World Cup qualification</td>\n",
              "      <td>Yerevan</td>\n",
              "      <td>Armenia</td>\n",
              "      <td>False</td>\n",
              "    </tr>\n",
              "    <tr>\n",
              "      <th>42082</th>\n",
              "      <td>2021-03-31</td>\n",
              "      <td>Germany</td>\n",
              "      <td>North Macedonia</td>\n",
              "      <td>1</td>\n",
              "      <td>2</td>\n",
              "      <td>FIFA World Cup qualification</td>\n",
              "      <td>Duisburg</td>\n",
              "      <td>Germany</td>\n",
              "      <td>False</td>\n",
              "    </tr>\n",
              "    <tr>\n",
              "      <th>42083</th>\n",
              "      <td>2021-03-31</td>\n",
              "      <td>Liechtenstein</td>\n",
              "      <td>Iceland</td>\n",
              "      <td>1</td>\n",
              "      <td>4</td>\n",
              "      <td>FIFA World Cup qualification</td>\n",
              "      <td>Vaduz</td>\n",
              "      <td>Liechtenstein</td>\n",
              "      <td>False</td>\n",
              "    </tr>\n",
              "  </tbody>\n",
              "</table>\n",
              "<p>42084 rows × 9 columns</p>\n",
              "</div>"
            ],
            "text/plain": [
              "           result      home_team  ...        country  neutral\n",
              "0      1872-11-30       Scotland  ...       Scotland    False\n",
              "1      1873-03-08        England  ...        England    False\n",
              "2      1874-03-07       Scotland  ...       Scotland    False\n",
              "3      1875-03-06        England  ...        England    False\n",
              "4      1876-03-04       Scotland  ...       Scotland    False\n",
              "...           ...            ...  ...            ...      ...\n",
              "42079  2021-03-31        Andorra  ...        Andorra    False\n",
              "42080  2021-03-31     San Marino  ...     San Marino    False\n",
              "42081  2021-03-31        Armenia  ...        Armenia    False\n",
              "42082  2021-03-31        Germany  ...        Germany    False\n",
              "42083  2021-03-31  Liechtenstein  ...  Liechtenstein    False\n",
              "\n",
              "[42084 rows x 9 columns]"
            ]
          },
          "execution_count": 42,
          "metadata": {
            "tags": []
          },
          "output_type": "execute_result"
        }
      ]
    },
    {
      "cell_type": "code",
      "metadata": {
        "colab": {
          "base_uri": "https://localhost:8080/",
          "height": 777
        },
        "id": "9JI_50FTaHRg",
        "outputId": "c302c883-5713-480d-8996-c0bd7d3b4712"
      },
      "source": [
        "data['result']=x\n",
        "\n",
        "###For analysis of how data actually is###\n",
        "#Didnt help though lol XD #\n",
        "import seaborn as sns\n",
        "\n",
        "\n",
        "sns.pairplot(data)"
      ],
      "execution_count": null,
      "outputs": [
        {
          "name": "stderr",
          "output_type": "stream",
          "text": [
            "<string>:6: RuntimeWarning: Converting input from bool to <class 'numpy.uint8'> for compatibility.\n",
            "<string>:6: RuntimeWarning: Converting input from bool to <class 'numpy.uint8'> for compatibility.\n"
          ]
        },
        {
          "data": {
            "text/plain": [
              "<seaborn.axisgrid.PairGrid at 0x7f30b273a910>"
            ]
          },
          "execution_count": 43,
          "metadata": {
            "tags": []
          },
          "output_type": "execute_result"
        },
        {
          "data": {
            "image/png": "[encoded data removed]",
            "text/plain": [
              "<Figure size 720x720 with 20 Axes>"
            ]
          },
          "metadata": {
            "tags": []
          },
          "output_type": "display_data"
        }
      ]
    },
    {
      "cell_type": "code",
      "metadata": {
        "colab": {
          "base_uri": "https://localhost:8080/",
          "height": 402
        },
        "id": "Oa_f6COAaKHv",
        "outputId": "5e6bcc16-65d7-4f63-fdb1-3006a39c5da7"
      },
      "source": [
        "data"
      ],
      "execution_count": null,
      "outputs": [
        {
          "data": {
            "text/html": [
              "<div>\n",
              "<style scoped>\n",
              "    .dataframe tbody tr th:only-of-type {\n",
              "        vertical-align: middle;\n",
              "    }\n",
              "\n",
              "    .dataframe tbody tr th {\n",
              "        vertical-align: top;\n",
              "    }\n",
              "\n",
              "    .dataframe thead th {\n",
              "        text-align: right;\n",
              "    }\n",
              "</style>\n",
              "<table border=\"1\" class=\"dataframe\">\n",
              "  <thead>\n",
              "    <tr style=\"text-align: right;\">\n",
              "      <th></th>\n",
              "      <th>result</th>\n",
              "      <th>home_team</th>\n",
              "      <th>away_team</th>\n",
              "      <th>home_score</th>\n",
              "      <th>away_score</th>\n",
              "      <th>tournament</th>\n",
              "      <th>city</th>\n",
              "      <th>country</th>\n",
              "      <th>neutral</th>\n",
              "    </tr>\n",
              "  </thead>\n",
              "  <tbody>\n",
              "    <tr>\n",
              "      <th>0</th>\n",
              "      <td>2</td>\n",
              "      <td>Scotland</td>\n",
              "      <td>England</td>\n",
              "      <td>0</td>\n",
              "      <td>0</td>\n",
              "      <td>Friendly</td>\n",
              "      <td>Glasgow</td>\n",
              "      <td>Scotland</td>\n",
              "      <td>False</td>\n",
              "    </tr>\n",
              "    <tr>\n",
              "      <th>1</th>\n",
              "      <td>1</td>\n",
              "      <td>England</td>\n",
              "      <td>Scotland</td>\n",
              "      <td>4</td>\n",
              "      <td>2</td>\n",
              "      <td>Friendly</td>\n",
              "      <td>London</td>\n",
              "      <td>England</td>\n",
              "      <td>False</td>\n",
              "    </tr>\n",
              "    <tr>\n",
              "      <th>2</th>\n",
              "      <td>1</td>\n",
              "      <td>Scotland</td>\n",
              "      <td>England</td>\n",
              "      <td>2</td>\n",
              "      <td>1</td>\n",
              "      <td>Friendly</td>\n",
              "      <td>Glasgow</td>\n",
              "      <td>Scotland</td>\n",
              "      <td>False</td>\n",
              "    </tr>\n",
              "    <tr>\n",
              "      <th>3</th>\n",
              "      <td>2</td>\n",
              "      <td>England</td>\n",
              "      <td>Scotland</td>\n",
              "      <td>2</td>\n",
              "      <td>2</td>\n",
              "      <td>Friendly</td>\n",
              "      <td>London</td>\n",
              "      <td>England</td>\n",
              "      <td>False</td>\n",
              "    </tr>\n",
              "    <tr>\n",
              "      <th>4</th>\n",
              "      <td>1</td>\n",
              "      <td>Scotland</td>\n",
              "      <td>England</td>\n",
              "      <td>3</td>\n",
              "      <td>0</td>\n",
              "      <td>Friendly</td>\n",
              "      <td>Glasgow</td>\n",
              "      <td>Scotland</td>\n",
              "      <td>False</td>\n",
              "    </tr>\n",
              "    <tr>\n",
              "      <th>...</th>\n",
              "      <td>...</td>\n",
              "      <td>...</td>\n",
              "      <td>...</td>\n",
              "      <td>...</td>\n",
              "      <td>...</td>\n",
              "      <td>...</td>\n",
              "      <td>...</td>\n",
              "      <td>...</td>\n",
              "      <td>...</td>\n",
              "    </tr>\n",
              "    <tr>\n",
              "      <th>42079</th>\n",
              "      <td>0</td>\n",
              "      <td>Andorra</td>\n",
              "      <td>Hungary</td>\n",
              "      <td>1</td>\n",
              "      <td>4</td>\n",
              "      <td>FIFA World Cup qualification</td>\n",
              "      <td>Andorra la Vella</td>\n",
              "      <td>Andorra</td>\n",
              "      <td>False</td>\n",
              "    </tr>\n",
              "    <tr>\n",
              "      <th>42080</th>\n",
              "      <td>0</td>\n",
              "      <td>San Marino</td>\n",
              "      <td>Albania</td>\n",
              "      <td>0</td>\n",
              "      <td>2</td>\n",
              "      <td>FIFA World Cup qualification</td>\n",
              "      <td>Serravalle</td>\n",
              "      <td>San Marino</td>\n",
              "      <td>False</td>\n",
              "    </tr>\n",
              "    <tr>\n",
              "      <th>42081</th>\n",
              "      <td>1</td>\n",
              "      <td>Armenia</td>\n",
              "      <td>Romania</td>\n",
              "      <td>3</td>\n",
              "      <td>2</td>\n",
              "      <td>FIFA World Cup qualification</td>\n",
              "      <td>Yerevan</td>\n",
              "      <td>Armenia</td>\n",
              "      <td>False</td>\n",
              "    </tr>\n",
              "    <tr>\n",
              "      <th>42082</th>\n",
              "      <td>0</td>\n",
              "      <td>Germany</td>\n",
              "      <td>North Macedonia</td>\n",
              "      <td>1</td>\n",
              "      <td>2</td>\n",
              "      <td>FIFA World Cup qualification</td>\n",
              "      <td>Duisburg</td>\n",
              "      <td>Germany</td>\n",
              "      <td>False</td>\n",
              "    </tr>\n",
              "    <tr>\n",
              "      <th>42083</th>\n",
              "      <td>0</td>\n",
              "      <td>Liechtenstein</td>\n",
              "      <td>Iceland</td>\n",
              "      <td>1</td>\n",
              "      <td>4</td>\n",
              "      <td>FIFA World Cup qualification</td>\n",
              "      <td>Vaduz</td>\n",
              "      <td>Liechtenstein</td>\n",
              "      <td>False</td>\n",
              "    </tr>\n",
              "  </tbody>\n",
              "</table>\n",
              "<p>42084 rows × 9 columns</p>\n",
              "</div>"
            ],
            "text/plain": [
              "       result      home_team  ...        country  neutral\n",
              "0           2       Scotland  ...       Scotland    False\n",
              "1           1        England  ...        England    False\n",
              "2           1       Scotland  ...       Scotland    False\n",
              "3           2        England  ...        England    False\n",
              "4           1       Scotland  ...       Scotland    False\n",
              "...       ...            ...  ...            ...      ...\n",
              "42079       0        Andorra  ...        Andorra    False\n",
              "42080       0     San Marino  ...     San Marino    False\n",
              "42081       1        Armenia  ...        Armenia    False\n",
              "42082       0        Germany  ...        Germany    False\n",
              "42083       0  Liechtenstein  ...  Liechtenstein    False\n",
              "\n",
              "[42084 rows x 9 columns]"
            ]
          },
          "execution_count": 44,
          "metadata": {
            "tags": []
          },
          "output_type": "execute_result"
        }
      ]
    },
    {
      "cell_type": "code",
      "metadata": {
        "id": "vOX94x9GaOZg"
      },
      "source": [
        "data=data.loc[:,['result', 'home_team' , 'away_team' , 'home_score' , 'away_score' , 'country']]"
      ],
      "execution_count": null,
      "outputs": []
    },
    {
      "cell_type": "code",
      "metadata": {
        "colab": {
          "base_uri": "https://localhost:8080/",
          "height": 402
        },
        "id": "gj8BsqRdaeEr",
        "outputId": "eef76775-ff82-4a3e-b2ec-aab271eae56a"
      },
      "source": [
        "data"
      ],
      "execution_count": null,
      "outputs": [
        {
          "data": {
            "text/html": [
              "<div>\n",
              "<style scoped>\n",
              "    .dataframe tbody tr th:only-of-type {\n",
              "        vertical-align: middle;\n",
              "    }\n",
              "\n",
              "    .dataframe tbody tr th {\n",
              "        vertical-align: top;\n",
              "    }\n",
              "\n",
              "    .dataframe thead th {\n",
              "        text-align: right;\n",
              "    }\n",
              "</style>\n",
              "<table border=\"1\" class=\"dataframe\">\n",
              "  <thead>\n",
              "    <tr style=\"text-align: right;\">\n",
              "      <th></th>\n",
              "      <th>result</th>\n",
              "      <th>home_team</th>\n",
              "      <th>away_team</th>\n",
              "      <th>home_score</th>\n",
              "      <th>away_score</th>\n",
              "      <th>country</th>\n",
              "    </tr>\n",
              "  </thead>\n",
              "  <tbody>\n",
              "    <tr>\n",
              "      <th>0</th>\n",
              "      <td>2</td>\n",
              "      <td>Scotland</td>\n",
              "      <td>England</td>\n",
              "      <td>0</td>\n",
              "      <td>0</td>\n",
              "      <td>Scotland</td>\n",
              "    </tr>\n",
              "    <tr>\n",
              "      <th>1</th>\n",
              "      <td>1</td>\n",
              "      <td>England</td>\n",
              "      <td>Scotland</td>\n",
              "      <td>4</td>\n",
              "      <td>2</td>\n",
              "      <td>England</td>\n",
              "    </tr>\n",
              "    <tr>\n",
              "      <th>2</th>\n",
              "      <td>1</td>\n",
              "      <td>Scotland</td>\n",
              "      <td>England</td>\n",
              "      <td>2</td>\n",
              "      <td>1</td>\n",
              "      <td>Scotland</td>\n",
              "    </tr>\n",
              "    <tr>\n",
              "      <th>3</th>\n",
              "      <td>2</td>\n",
              "      <td>England</td>\n",
              "      <td>Scotland</td>\n",
              "      <td>2</td>\n",
              "      <td>2</td>\n",
              "      <td>England</td>\n",
              "    </tr>\n",
              "    <tr>\n",
              "      <th>4</th>\n",
              "      <td>1</td>\n",
              "      <td>Scotland</td>\n",
              "      <td>England</td>\n",
              "      <td>3</td>\n",
              "      <td>0</td>\n",
              "      <td>Scotland</td>\n",
              "    </tr>\n",
              "    <tr>\n",
              "      <th>...</th>\n",
              "      <td>...</td>\n",
              "      <td>...</td>\n",
              "      <td>...</td>\n",
              "      <td>...</td>\n",
              "      <td>...</td>\n",
              "      <td>...</td>\n",
              "    </tr>\n",
              "    <tr>\n",
              "      <th>42079</th>\n",
              "      <td>0</td>\n",
              "      <td>Andorra</td>\n",
              "      <td>Hungary</td>\n",
              "      <td>1</td>\n",
              "      <td>4</td>\n",
              "      <td>Andorra</td>\n",
              "    </tr>\n",
              "    <tr>\n",
              "      <th>42080</th>\n",
              "      <td>0</td>\n",
              "      <td>San Marino</td>\n",
              "      <td>Albania</td>\n",
              "      <td>0</td>\n",
              "      <td>2</td>\n",
              "      <td>San Marino</td>\n",
              "    </tr>\n",
              "    <tr>\n",
              "      <th>42081</th>\n",
              "      <td>1</td>\n",
              "      <td>Armenia</td>\n",
              "      <td>Romania</td>\n",
              "      <td>3</td>\n",
              "      <td>2</td>\n",
              "      <td>Armenia</td>\n",
              "    </tr>\n",
              "    <tr>\n",
              "      <th>42082</th>\n",
              "      <td>0</td>\n",
              "      <td>Germany</td>\n",
              "      <td>North Macedonia</td>\n",
              "      <td>1</td>\n",
              "      <td>2</td>\n",
              "      <td>Germany</td>\n",
              "    </tr>\n",
              "    <tr>\n",
              "      <th>42083</th>\n",
              "      <td>0</td>\n",
              "      <td>Liechtenstein</td>\n",
              "      <td>Iceland</td>\n",
              "      <td>1</td>\n",
              "      <td>4</td>\n",
              "      <td>Liechtenstein</td>\n",
              "    </tr>\n",
              "  </tbody>\n",
              "</table>\n",
              "<p>42084 rows × 6 columns</p>\n",
              "</div>"
            ],
            "text/plain": [
              "       result      home_team  ... away_score        country\n",
              "0           2       Scotland  ...          0       Scotland\n",
              "1           1        England  ...          2        England\n",
              "2           1       Scotland  ...          1       Scotland\n",
              "3           2        England  ...          2        England\n",
              "4           1       Scotland  ...          0       Scotland\n",
              "...       ...            ...  ...        ...            ...\n",
              "42079       0        Andorra  ...          4        Andorra\n",
              "42080       0     San Marino  ...          2     San Marino\n",
              "42081       1        Armenia  ...          2        Armenia\n",
              "42082       0        Germany  ...          2        Germany\n",
              "42083       0  Liechtenstein  ...          4  Liechtenstein\n",
              "\n",
              "[42084 rows x 6 columns]"
            ]
          },
          "execution_count": 46,
          "metadata": {
            "tags": []
          },
          "output_type": "execute_result"
        }
      ]
    },
    {
      "cell_type": "code",
      "metadata": {
        "id": "h__7tScuafQu"
      },
      "source": [
        "array=data.loc[:,'home_team'].unique().copy()"
      ],
      "execution_count": null,
      "outputs": []
    },
    {
      "cell_type": "code",
      "metadata": {
        "colab": {
          "base_uri": "https://localhost:8080/"
        },
        "id": "NyPUpDvCakZn",
        "outputId": "bb3fcad5-95bc-453f-8bee-f610bdd1b16a"
      },
      "source": [
        "#array contians all the names for dictionary\n",
        "array"
      ],
      "execution_count": null,
      "outputs": [
        {
          "data": {
            "text/plain": [
              "array(['Scotland', 'England', 'Wales', 'Northern Ireland',\n",
              "       'United States', 'Uruguay', 'Austria', 'Hungary', 'Argentina',\n",
              "       'Belgium', 'France', 'Netherlands', 'Czechoslovakia',\n",
              "       'Switzerland', 'Sweden', 'Germany', 'Italy', 'Chile', 'Norway',\n",
              "       'Finland', 'Luxembourg', 'Russia', 'Denmark', 'Catalonia',\n",
              "       'Basque Country', 'Brazil', 'Japan', 'Paraguay', 'Canada',\n",
              "       'Estonia', 'Costa Rica', 'Guatemala', 'Spain', 'Brittany',\n",
              "       'Poland', 'Yugoslavia', 'New Zealand', 'Romania', 'Latvia',\n",
              "       'Galicia', 'Portugal', 'Andalusia', 'China PR', 'Australia',\n",
              "       'Lithuania', 'Turkey', 'Central Spain', 'Mexico', 'Aruba', 'Egypt',\n",
              "       'Haiti', 'Philippines', 'Bulgaria', 'Jamaica', 'Kenya', 'Bolivia',\n",
              "       'Peru', 'Honduras', 'Guyana', 'Uganda', 'Belarus', 'El Salvador',\n",
              "       'Barbados', 'Republic of Ireland', 'Trinidad and Tobago', 'Greece',\n",
              "       'Curaçao', 'Dominica', 'Silesia', 'Guadeloupe', 'Israel',\n",
              "       'Suriname', 'French Guiana', 'Cuba', 'Colombia', 'Ecuador',\n",
              "       'Saint Kitts and Nevis', 'Panama', 'Slovakia', 'Manchukuo',\n",
              "       'Croatia', 'Nicaragua', 'Afghanistan', 'India', 'Martinique',\n",
              "       'Zimbabwe', 'Iceland', 'Albania', 'Madagascar', 'Zambia',\n",
              "       'Mauritius', 'Tanzania', 'Iran', 'Djibouti', 'DR Congo', 'Vietnam',\n",
              "       'Macau', 'Ethiopia', 'Puerto Rico', 'Réunion', 'Sierra Leone',\n",
              "       'Zanzibar', 'South Korea', 'Ghana', 'South Africa',\n",
              "       'New Caledonia', 'Fiji', 'Nigeria', 'Venezuela', 'Burma',\n",
              "       'Sri Lanka', 'Tahiti', 'Gambia', 'Hong Kong', 'Singapore',\n",
              "       'Malaysia', 'Indonesia', 'Guinea-Bissau', 'German DR', 'Vanuatu',\n",
              "       'Kernow', 'Saarland', 'Cambodia', 'Lebanon', 'Pakistan',\n",
              "       'Vietnam Republic', 'North Korea', 'Togo', 'Sudan', 'Malta',\n",
              "       'Syria', 'Tunisia', 'Malawi', 'Morocco', 'Benin', 'Cameroon',\n",
              "       'Central African Republic', 'Gabon', 'Ivory Coast', 'Congo',\n",
              "       'Mali', 'North Vietnam', 'Mongolia', 'Chinese Taipei', 'Cyprus',\n",
              "       'Iraq', 'Saint Lucia', 'Grenada', 'Thailand', 'Senegal', 'Libya',\n",
              "       'Guinea', 'Algeria', 'Kuwait', 'Jordan', 'Solomon Islands',\n",
              "       'Liberia', 'Laos', 'Saint Vincent and the Grenadines', 'Bermuda',\n",
              "       'Niger', 'Bahrain', 'Montenegro', 'Palestine', 'Papua New Guinea',\n",
              "       'Burkina Faso', 'Mauritania', 'Saudi Arabia', 'Eswatini',\n",
              "       'Somalia', 'Lesotho', 'Cook Islands', 'Qatar',\n",
              "       'Antigua and Barbuda', 'Faroe Islands', 'Bangladesh', 'Oman',\n",
              "       'Yemen DPR', 'Burundi', 'Yemen', 'Mozambique', 'Guam', 'Chad',\n",
              "       'Angola', 'Dominican Republic', 'Seychelles', 'Rwanda',\n",
              "       'São Tomé and Príncipe', 'Botswana', 'Northern Cyprus',\n",
              "       'Cape Verde', 'Kyrgyzstan', 'Georgia', 'Azerbaijan', 'Kiribati',\n",
              "       'Tonga', 'Wallis Islands and Futuna', 'United Arab Emirates',\n",
              "       'Brunei', 'Equatorial Guinea', 'Liechtenstein', 'Nepal',\n",
              "       'Greenland', 'Niue', 'Samoa', 'American Samoa', 'Belize',\n",
              "       'Anguilla', 'Cayman Islands', 'Palau', 'Sint Maarten', 'Namibia',\n",
              "       'Åland Islands', 'Ynys Môn', 'Saint Martin', 'San Marino',\n",
              "       'Slovenia', 'Jersey', 'Shetland', 'Isle of Wight', 'Moldova',\n",
              "       'Ukraine', 'Kazakhstan', 'Tajikistan', 'Uzbekistan',\n",
              "       'Turkmenistan', 'Armenia', 'Czech Republic', 'Guernsey',\n",
              "       'Gibraltar', 'Isle of Man', 'North Macedonia', 'Montserrat',\n",
              "       'Serbia', 'Canary Islands', 'Bosnia and Herzegovina', 'Maldives',\n",
              "       'Andorra', 'British Virgin Islands', 'Frøya', 'Hitra',\n",
              "       'U.S. Virgin Islands', 'Corsica', 'Eritrea', 'Bahamas', 'Gotland',\n",
              "       'Saare County', 'Rhodes', 'Micronesia', 'Bhutan', 'Orkney',\n",
              "       'Monaco', 'Tuvalu', 'Sark', 'Alderney', 'Mayotte',\n",
              "       'Turks and Caicos Islands', 'East Timor', 'Western Isles',\n",
              "       'Falkland Islands', 'Kosovo', 'Republic of St. Pauli', 'Găgăuzia',\n",
              "       'Tibet', 'Crimea', 'Occitania', 'Sápmi',\n",
              "       'Northern Mariana Islands', 'Menorca', 'Comoros', 'Provence',\n",
              "       'Arameans Suryoye', 'Padania', 'Iraqi Kurdistan', 'Gozo',\n",
              "       'Bonaire', 'Western Sahara', 'Raetia', 'Darfur', 'Tamil Eelam',\n",
              "       'South Sudan', 'Abkhazia', 'Saint Pierre and Miquelon', 'Artsakh',\n",
              "       'Madrid', 'Vatican City', 'Ellan Vannin', 'South Ossetia',\n",
              "       'County of Nice', 'Székely Land', 'Romani people', 'Felvidék',\n",
              "       'Chagos Islands', 'United Koreans in Japan', 'Somaliland',\n",
              "       'Western Armenia', 'Barawa', 'Kárpátalja', 'Yorkshire', 'Panjab',\n",
              "       'Matabeleland', 'Cascadia', 'Kabylia', 'Timor-Leste', 'Myanmar',\n",
              "       'Parishes of Jersey', 'Chameria', 'Saint Helena'], dtype=object)"
            ]
          },
          "execution_count": 48,
          "metadata": {
            "tags": []
          },
          "output_type": "execute_result"
        }
      ]
    },
    {
      "cell_type": "code",
      "metadata": {
        "id": "yBqthtQcapEc"
      },
      "source": [
        "d1 = dict(enumerate(array.flatten(), 1))"
      ],
      "execution_count": null,
      "outputs": []
    },
    {
      "cell_type": "code",
      "metadata": {
        "id": "htkOLzHRauI0"
      },
      "source": [
        "d={key : value for (value,key) in d1.items()}"
      ],
      "execution_count": null,
      "outputs": []
    },
    {
      "cell_type": "code",
      "metadata": {
        "colab": {
          "base_uri": "https://localhost:8080/"
        },
        "id": "5aC_mFYDax6Y",
        "outputId": "69d29939-6ecc-406c-a42a-0ecf7f051278"
      },
      "source": [
        "d\n",
        "\n",
        "#it is printing the country name alphabetically but the mapping is done fine as per order in variable 'array'"
      ],
      "execution_count": null,
      "outputs": [
        {
          "data": {
            "text/plain": [
              "{'Abkhazia': 282,\n",
              " 'Afghanistan': 83,\n",
              " 'Albania': 88,\n",
              " 'Alderney': 255,\n",
              " 'Algeria': 153,\n",
              " 'American Samoa': 206,\n",
              " 'Andalusia': 42,\n",
              " 'Andorra': 238,\n",
              " 'Angola': 184,\n",
              " 'Anguilla': 208,\n",
              " 'Antigua and Barbuda': 174,\n",
              " 'Arameans Suryoye': 272,\n",
              " 'Argentina': 9,\n",
              " 'Armenia': 227,\n",
              " 'Artsakh': 284,\n",
              " 'Aruba': 49,\n",
              " 'Australia': 44,\n",
              " 'Austria': 7,\n",
              " 'Azerbaijan': 194,\n",
              " 'Bahamas': 245,\n",
              " 'Bahrain': 162,\n",
              " 'Bangladesh': 176,\n",
              " 'Barawa': 297,\n",
              " 'Barbados': 63,\n",
              " 'Basque Country': 25,\n",
              " 'Belarus': 61,\n",
              " 'Belgium': 10,\n",
              " 'Belize': 207,\n",
              " 'Benin': 135,\n",
              " 'Bermuda': 160,\n",
              " 'Bhutan': 250,\n",
              " 'Bolivia': 56,\n",
              " 'Bonaire': 276,\n",
              " 'Bosnia and Herzegovina': 236,\n",
              " 'Botswana': 189,\n",
              " 'Brazil': 26,\n",
              " 'British Virgin Islands': 239,\n",
              " 'Brittany': 34,\n",
              " 'Brunei': 199,\n",
              " 'Bulgaria': 53,\n",
              " 'Burkina Faso': 166,\n",
              " 'Burma': 110,\n",
              " 'Burundi': 179,\n",
              " 'Cambodia': 123,\n",
              " 'Cameroon': 136,\n",
              " 'Canada': 29,\n",
              " 'Canary Islands': 235,\n",
              " 'Cape Verde': 191,\n",
              " 'Cascadia': 302,\n",
              " 'Catalonia': 24,\n",
              " 'Cayman Islands': 209,\n",
              " 'Central African Republic': 137,\n",
              " 'Central Spain': 47,\n",
              " 'Chad': 183,\n",
              " 'Chagos Islands': 293,\n",
              " 'Chameria': 307,\n",
              " 'Chile': 18,\n",
              " 'China PR': 43,\n",
              " 'Chinese Taipei': 144,\n",
              " 'Colombia': 75,\n",
              " 'Comoros': 270,\n",
              " 'Congo': 140,\n",
              " 'Cook Islands': 172,\n",
              " 'Corsica': 243,\n",
              " 'Costa Rica': 31,\n",
              " 'County of Nice': 289,\n",
              " 'Crimea': 265,\n",
              " 'Croatia': 81,\n",
              " 'Cuba': 74,\n",
              " 'Curaçao': 67,\n",
              " 'Cyprus': 145,\n",
              " 'Czech Republic': 228,\n",
              " 'Czechoslovakia': 13,\n",
              " 'DR Congo': 95,\n",
              " 'Darfur': 279,\n",
              " 'Denmark': 23,\n",
              " 'Djibouti': 94,\n",
              " 'Dominica': 68,\n",
              " 'Dominican Republic': 185,\n",
              " 'East Timor': 258,\n",
              " 'Ecuador': 76,\n",
              " 'Egypt': 50,\n",
              " 'El Salvador': 62,\n",
              " 'Ellan Vannin': 287,\n",
              " 'England': 2,\n",
              " 'Equatorial Guinea': 200,\n",
              " 'Eritrea': 244,\n",
              " 'Estonia': 30,\n",
              " 'Eswatini': 169,\n",
              " 'Ethiopia': 98,\n",
              " 'Falkland Islands': 260,\n",
              " 'Faroe Islands': 175,\n",
              " 'Felvidék': 292,\n",
              " 'Fiji': 107,\n",
              " 'Finland': 20,\n",
              " 'France': 11,\n",
              " 'French Guiana': 73,\n",
              " 'Frøya': 240,\n",
              " 'Gabon': 138,\n",
              " 'Galicia': 40,\n",
              " 'Gambia': 113,\n",
              " 'Georgia': 193,\n",
              " 'German DR': 119,\n",
              " 'Germany': 16,\n",
              " 'Ghana': 104,\n",
              " 'Gibraltar': 230,\n",
              " 'Gotland': 246,\n",
              " 'Gozo': 275,\n",
              " 'Greece': 66,\n",
              " 'Greenland': 203,\n",
              " 'Grenada': 148,\n",
              " 'Guadeloupe': 70,\n",
              " 'Guam': 182,\n",
              " 'Guatemala': 32,\n",
              " 'Guernsey': 229,\n",
              " 'Guinea': 152,\n",
              " 'Guinea-Bissau': 118,\n",
              " 'Guyana': 59,\n",
              " 'Găgăuzia': 263,\n",
              " 'Haiti': 51,\n",
              " 'Hitra': 241,\n",
              " 'Honduras': 58,\n",
              " 'Hong Kong': 114,\n",
              " 'Hungary': 8,\n",
              " 'Iceland': 87,\n",
              " 'India': 84,\n",
              " 'Indonesia': 117,\n",
              " 'Iran': 93,\n",
              " 'Iraq': 146,\n",
              " 'Iraqi Kurdistan': 274,\n",
              " 'Isle of Man': 231,\n",
              " 'Isle of Wight': 220,\n",
              " 'Israel': 71,\n",
              " 'Italy': 17,\n",
              " 'Ivory Coast': 139,\n",
              " 'Jamaica': 54,\n",
              " 'Japan': 27,\n",
              " 'Jersey': 218,\n",
              " 'Jordan': 155,\n",
              " 'Kabylia': 303,\n",
              " 'Kazakhstan': 223,\n",
              " 'Kenya': 55,\n",
              " 'Kernow': 121,\n",
              " 'Kiribati': 195,\n",
              " 'Kosovo': 261,\n",
              " 'Kuwait': 154,\n",
              " 'Kyrgyzstan': 192,\n",
              " 'Kárpátalja': 298,\n",
              " 'Laos': 158,\n",
              " 'Latvia': 39,\n",
              " 'Lebanon': 124,\n",
              " 'Lesotho': 171,\n",
              " 'Liberia': 157,\n",
              " 'Libya': 151,\n",
              " 'Liechtenstein': 201,\n",
              " 'Lithuania': 45,\n",
              " 'Luxembourg': 21,\n",
              " 'Macau': 97,\n",
              " 'Madagascar': 89,\n",
              " 'Madrid': 285,\n",
              " 'Malawi': 133,\n",
              " 'Malaysia': 116,\n",
              " 'Maldives': 237,\n",
              " 'Mali': 141,\n",
              " 'Malta': 130,\n",
              " 'Manchukuo': 80,\n",
              " 'Martinique': 85,\n",
              " 'Matabeleland': 301,\n",
              " 'Mauritania': 167,\n",
              " 'Mauritius': 91,\n",
              " 'Mayotte': 256,\n",
              " 'Menorca': 269,\n",
              " 'Mexico': 48,\n",
              " 'Micronesia': 249,\n",
              " 'Moldova': 221,\n",
              " 'Monaco': 252,\n",
              " 'Mongolia': 143,\n",
              " 'Montenegro': 163,\n",
              " 'Montserrat': 233,\n",
              " 'Morocco': 134,\n",
              " 'Mozambique': 181,\n",
              " 'Myanmar': 305,\n",
              " 'Namibia': 212,\n",
              " 'Nepal': 202,\n",
              " 'Netherlands': 12,\n",
              " 'New Caledonia': 106,\n",
              " 'New Zealand': 37,\n",
              " 'Nicaragua': 82,\n",
              " 'Niger': 161,\n",
              " 'Nigeria': 108,\n",
              " 'Niue': 204,\n",
              " 'North Korea': 127,\n",
              " 'North Macedonia': 232,\n",
              " 'North Vietnam': 142,\n",
              " 'Northern Cyprus': 190,\n",
              " 'Northern Ireland': 4,\n",
              " 'Northern Mariana Islands': 268,\n",
              " 'Norway': 19,\n",
              " 'Occitania': 266,\n",
              " 'Oman': 177,\n",
              " 'Orkney': 251,\n",
              " 'Padania': 273,\n",
              " 'Pakistan': 125,\n",
              " 'Palau': 210,\n",
              " 'Palestine': 164,\n",
              " 'Panama': 78,\n",
              " 'Panjab': 300,\n",
              " 'Papua New Guinea': 165,\n",
              " 'Paraguay': 28,\n",
              " 'Parishes of Jersey': 306,\n",
              " 'Peru': 57,\n",
              " 'Philippines': 52,\n",
              " 'Poland': 35,\n",
              " 'Portugal': 41,\n",
              " 'Provence': 271,\n",
              " 'Puerto Rico': 99,\n",
              " 'Qatar': 173,\n",
              " 'Raetia': 278,\n",
              " 'Republic of Ireland': 64,\n",
              " 'Republic of St. Pauli': 262,\n",
              " 'Rhodes': 248,\n",
              " 'Romani people': 291,\n",
              " 'Romania': 38,\n",
              " 'Russia': 22,\n",
              " 'Rwanda': 187,\n",
              " 'Réunion': 100,\n",
              " 'Saare County': 247,\n",
              " 'Saarland': 122,\n",
              " 'Saint Helena': 308,\n",
              " 'Saint Kitts and Nevis': 77,\n",
              " 'Saint Lucia': 147,\n",
              " 'Saint Martin': 215,\n",
              " 'Saint Pierre and Miquelon': 283,\n",
              " 'Saint Vincent and the Grenadines': 159,\n",
              " 'Samoa': 205,\n",
              " 'San Marino': 216,\n",
              " 'Sark': 254,\n",
              " 'Saudi Arabia': 168,\n",
              " 'Scotland': 1,\n",
              " 'Senegal': 150,\n",
              " 'Serbia': 234,\n",
              " 'Seychelles': 186,\n",
              " 'Shetland': 219,\n",
              " 'Sierra Leone': 101,\n",
              " 'Silesia': 69,\n",
              " 'Singapore': 115,\n",
              " 'Sint Maarten': 211,\n",
              " 'Slovakia': 79,\n",
              " 'Slovenia': 217,\n",
              " 'Solomon Islands': 156,\n",
              " 'Somalia': 170,\n",
              " 'Somaliland': 295,\n",
              " 'South Africa': 105,\n",
              " 'South Korea': 103,\n",
              " 'South Ossetia': 288,\n",
              " 'South Sudan': 281,\n",
              " 'Spain': 33,\n",
              " 'Sri Lanka': 111,\n",
              " 'Sudan': 129,\n",
              " 'Suriname': 72,\n",
              " 'Sweden': 15,\n",
              " 'Switzerland': 14,\n",
              " 'Syria': 131,\n",
              " 'Székely Land': 290,\n",
              " 'Sápmi': 267,\n",
              " 'São Tomé and Príncipe': 188,\n",
              " 'Tahiti': 112,\n",
              " 'Tajikistan': 224,\n",
              " 'Tamil Eelam': 280,\n",
              " 'Tanzania': 92,\n",
              " 'Thailand': 149,\n",
              " 'Tibet': 264,\n",
              " 'Timor-Leste': 304,\n",
              " 'Togo': 128,\n",
              " 'Tonga': 196,\n",
              " 'Trinidad and Tobago': 65,\n",
              " 'Tunisia': 132,\n",
              " 'Turkey': 46,\n",
              " 'Turkmenistan': 226,\n",
              " 'Turks and Caicos Islands': 257,\n",
              " 'Tuvalu': 253,\n",
              " 'U.S. Virgin Islands': 242,\n",
              " 'Uganda': 60,\n",
              " 'Ukraine': 222,\n",
              " 'United Arab Emirates': 198,\n",
              " 'United Koreans in Japan': 294,\n",
              " 'United States': 5,\n",
              " 'Uruguay': 6,\n",
              " 'Uzbekistan': 225,\n",
              " 'Vanuatu': 120,\n",
              " 'Vatican City': 286,\n",
              " 'Venezuela': 109,\n",
              " 'Vietnam': 96,\n",
              " 'Vietnam Republic': 126,\n",
              " 'Wales': 3,\n",
              " 'Wallis Islands and Futuna': 197,\n",
              " 'Western Armenia': 296,\n",
              " 'Western Isles': 259,\n",
              " 'Western Sahara': 277,\n",
              " 'Yemen': 180,\n",
              " 'Yemen DPR': 178,\n",
              " 'Ynys Môn': 214,\n",
              " 'Yorkshire': 299,\n",
              " 'Yugoslavia': 36,\n",
              " 'Zambia': 90,\n",
              " 'Zanzibar': 102,\n",
              " 'Zimbabwe': 86,\n",
              " 'Åland Islands': 213}"
            ]
          },
          "execution_count": 51,
          "metadata": {
            "tags": []
          },
          "output_type": "execute_result"
        }
      ]
    },
    {
      "cell_type": "code",
      "metadata": {
        "id": "4uNoVY2PaymL"
      },
      "source": [
        "data['home_team']=data['home_team'].map(d).values\n",
        "data['away_team']=data['away_team'].map(d).values"
      ],
      "execution_count": null,
      "outputs": []
    },
    {
      "cell_type": "code",
      "metadata": {
        "id": "Wz5k159pbQ0T"
      },
      "source": [
        "data['country']=data['country'].map(d).values"
      ],
      "execution_count": null,
      "outputs": []
    },
    {
      "cell_type": "code",
      "metadata": {
        "colab": {
          "base_uri": "https://localhost:8080/",
          "height": 402
        },
        "id": "2gRW-CuNbTHY",
        "outputId": "5dad376c-099a-4a90-a6dc-a2aa65888602"
      },
      "source": [
        "data"
      ],
      "execution_count": null,
      "outputs": [
        {
          "data": {
            "text/html": [
              "<div>\n",
              "<style scoped>\n",
              "    .dataframe tbody tr th:only-of-type {\n",
              "        vertical-align: middle;\n",
              "    }\n",
              "\n",
              "    .dataframe tbody tr th {\n",
              "        vertical-align: top;\n",
              "    }\n",
              "\n",
              "    .dataframe thead th {\n",
              "        text-align: right;\n",
              "    }\n",
              "</style>\n",
              "<table border=\"1\" class=\"dataframe\">\n",
              "  <thead>\n",
              "    <tr style=\"text-align: right;\">\n",
              "      <th></th>\n",
              "      <th>result</th>\n",
              "      <th>home_team</th>\n",
              "      <th>away_team</th>\n",
              "      <th>home_score</th>\n",
              "      <th>away_score</th>\n",
              "      <th>country</th>\n",
              "    </tr>\n",
              "  </thead>\n",
              "  <tbody>\n",
              "    <tr>\n",
              "      <th>0</th>\n",
              "      <td>2</td>\n",
              "      <td>1</td>\n",
              "      <td>2.0</td>\n",
              "      <td>0</td>\n",
              "      <td>0</td>\n",
              "      <td>1.0</td>\n",
              "    </tr>\n",
              "    <tr>\n",
              "      <th>1</th>\n",
              "      <td>1</td>\n",
              "      <td>2</td>\n",
              "      <td>1.0</td>\n",
              "      <td>4</td>\n",
              "      <td>2</td>\n",
              "      <td>2.0</td>\n",
              "    </tr>\n",
              "    <tr>\n",
              "      <th>2</th>\n",
              "      <td>1</td>\n",
              "      <td>1</td>\n",
              "      <td>2.0</td>\n",
              "      <td>2</td>\n",
              "      <td>1</td>\n",
              "      <td>1.0</td>\n",
              "    </tr>\n",
              "    <tr>\n",
              "      <th>3</th>\n",
              "      <td>2</td>\n",
              "      <td>2</td>\n",
              "      <td>1.0</td>\n",
              "      <td>2</td>\n",
              "      <td>2</td>\n",
              "      <td>2.0</td>\n",
              "    </tr>\n",
              "    <tr>\n",
              "      <th>4</th>\n",
              "      <td>1</td>\n",
              "      <td>1</td>\n",
              "      <td>2.0</td>\n",
              "      <td>3</td>\n",
              "      <td>0</td>\n",
              "      <td>1.0</td>\n",
              "    </tr>\n",
              "    <tr>\n",
              "      <th>...</th>\n",
              "      <td>...</td>\n",
              "      <td>...</td>\n",
              "      <td>...</td>\n",
              "      <td>...</td>\n",
              "      <td>...</td>\n",
              "      <td>...</td>\n",
              "    </tr>\n",
              "    <tr>\n",
              "      <th>42079</th>\n",
              "      <td>0</td>\n",
              "      <td>238</td>\n",
              "      <td>8.0</td>\n",
              "      <td>1</td>\n",
              "      <td>4</td>\n",
              "      <td>238.0</td>\n",
              "    </tr>\n",
              "    <tr>\n",
              "      <th>42080</th>\n",
              "      <td>0</td>\n",
              "      <td>216</td>\n",
              "      <td>88.0</td>\n",
              "      <td>0</td>\n",
              "      <td>2</td>\n",
              "      <td>216.0</td>\n",
              "    </tr>\n",
              "    <tr>\n",
              "      <th>42081</th>\n",
              "      <td>1</td>\n",
              "      <td>227</td>\n",
              "      <td>38.0</td>\n",
              "      <td>3</td>\n",
              "      <td>2</td>\n",
              "      <td>227.0</td>\n",
              "    </tr>\n",
              "    <tr>\n",
              "      <th>42082</th>\n",
              "      <td>0</td>\n",
              "      <td>16</td>\n",
              "      <td>232.0</td>\n",
              "      <td>1</td>\n",
              "      <td>2</td>\n",
              "      <td>16.0</td>\n",
              "    </tr>\n",
              "    <tr>\n",
              "      <th>42083</th>\n",
              "      <td>0</td>\n",
              "      <td>201</td>\n",
              "      <td>87.0</td>\n",
              "      <td>1</td>\n",
              "      <td>4</td>\n",
              "      <td>201.0</td>\n",
              "    </tr>\n",
              "  </tbody>\n",
              "</table>\n",
              "<p>42084 rows × 6 columns</p>\n",
              "</div>"
            ],
            "text/plain": [
              "       result  home_team  away_team  home_score  away_score  country\n",
              "0           2          1        2.0           0           0      1.0\n",
              "1           1          2        1.0           4           2      2.0\n",
              "2           1          1        2.0           2           1      1.0\n",
              "3           2          2        1.0           2           2      2.0\n",
              "4           1          1        2.0           3           0      1.0\n",
              "...       ...        ...        ...         ...         ...      ...\n",
              "42079       0        238        8.0           1           4    238.0\n",
              "42080       0        216       88.0           0           2    216.0\n",
              "42081       1        227       38.0           3           2    227.0\n",
              "42082       0         16      232.0           1           2     16.0\n",
              "42083       0        201       87.0           1           4    201.0\n",
              "\n",
              "[42084 rows x 6 columns]"
            ]
          },
          "execution_count": 54,
          "metadata": {
            "tags": []
          },
          "output_type": "execute_result"
        }
      ]
    },
    {
      "cell_type": "code",
      "metadata": {
        "id": "3-69_sDgbT6o"
      },
      "source": [
        "#Since everything is with respect to home team , i decided to take goal difference as a label to predict and from that the result of the match could be predicted easily (+ve goal\n",
        "# difference would symbolize a win for home team , -ve GD would symbolize a defeat for home team )\n",
        "### EVERYTHING IS WITH RESPECT TO HOME TEAM FOR BETTER UNDERSTANDING ###\n",
        "\n",
        "\n",
        "data['home_score'] = data['home_score']-data['away_score']\n",
        "\n",
        "\n",
        "data=data.rename(columns={'home_score':'goal_diff'})\n",
        "\n",
        "\n"
      ],
      "execution_count": null,
      "outputs": []
    },
    {
      "cell_type": "code",
      "metadata": {
        "id": "v1mXhd3BbpKT"
      },
      "source": [
        "#filling nan values with average , it was later that i realized i could've predicted it using any regressor but i was in a hurry to complete it so i just put in averages\n",
        "mean_home_team = data['home_team'].mean()\n",
        "mean_away_team = data['away_team'].mean()\n",
        "mean_country = data['country'].mean()\n",
        "mean_score = data['goal_diff'].mean()\n",
        "\n",
        "\n",
        "data['home_team'] = data['home_team'].fillna(mean_home_team)\n",
        "data['away_team'] = data['away_team'].fillna(mean_away_team)\n",
        "data['country'] = data['country'].fillna(mean_country)\n",
        "data['goal_diff'] = data['goal_diff'].fillna(mean_score)"
      ],
      "execution_count": null,
      "outputs": []
    },
    {
      "cell_type": "code",
      "metadata": {
        "colab": {
          "base_uri": "https://localhost:8080/",
          "height": 402
        },
        "id": "QrfMO3iFc7R5",
        "outputId": "f8767874-1e6d-4483-9d58-b854f7803f27"
      },
      "source": [
        "data"
      ],
      "execution_count": null,
      "outputs": [
        {
          "data": {
            "text/html": [
              "<div>\n",
              "<style scoped>\n",
              "    .dataframe tbody tr th:only-of-type {\n",
              "        vertical-align: middle;\n",
              "    }\n",
              "\n",
              "    .dataframe tbody tr th {\n",
              "        vertical-align: top;\n",
              "    }\n",
              "\n",
              "    .dataframe thead th {\n",
              "        text-align: right;\n",
              "    }\n",
              "</style>\n",
              "<table border=\"1\" class=\"dataframe\">\n",
              "  <thead>\n",
              "    <tr style=\"text-align: right;\">\n",
              "      <th></th>\n",
              "      <th>result</th>\n",
              "      <th>home_team</th>\n",
              "      <th>away_team</th>\n",
              "      <th>goal_diff</th>\n",
              "      <th>away_score</th>\n",
              "      <th>country</th>\n",
              "    </tr>\n",
              "  </thead>\n",
              "  <tbody>\n",
              "    <tr>\n",
              "      <th>0</th>\n",
              "      <td>2</td>\n",
              "      <td>1</td>\n",
              "      <td>2.0</td>\n",
              "      <td>0</td>\n",
              "      <td>0</td>\n",
              "      <td>1.0</td>\n",
              "    </tr>\n",
              "    <tr>\n",
              "      <th>1</th>\n",
              "      <td>1</td>\n",
              "      <td>2</td>\n",
              "      <td>1.0</td>\n",
              "      <td>2</td>\n",
              "      <td>2</td>\n",
              "      <td>2.0</td>\n",
              "    </tr>\n",
              "    <tr>\n",
              "      <th>2</th>\n",
              "      <td>1</td>\n",
              "      <td>1</td>\n",
              "      <td>2.0</td>\n",
              "      <td>1</td>\n",
              "      <td>1</td>\n",
              "      <td>1.0</td>\n",
              "    </tr>\n",
              "    <tr>\n",
              "      <th>3</th>\n",
              "      <td>2</td>\n",
              "      <td>2</td>\n",
              "      <td>1.0</td>\n",
              "      <td>0</td>\n",
              "      <td>2</td>\n",
              "      <td>2.0</td>\n",
              "    </tr>\n",
              "    <tr>\n",
              "      <th>4</th>\n",
              "      <td>1</td>\n",
              "      <td>1</td>\n",
              "      <td>2.0</td>\n",
              "      <td>3</td>\n",
              "      <td>0</td>\n",
              "      <td>1.0</td>\n",
              "    </tr>\n",
              "    <tr>\n",
              "      <th>...</th>\n",
              "      <td>...</td>\n",
              "      <td>...</td>\n",
              "      <td>...</td>\n",
              "      <td>...</td>\n",
              "      <td>...</td>\n",
              "      <td>...</td>\n",
              "    </tr>\n",
              "    <tr>\n",
              "      <th>42079</th>\n",
              "      <td>0</td>\n",
              "      <td>238</td>\n",
              "      <td>8.0</td>\n",
              "      <td>-3</td>\n",
              "      <td>4</td>\n",
              "      <td>238.0</td>\n",
              "    </tr>\n",
              "    <tr>\n",
              "      <th>42080</th>\n",
              "      <td>0</td>\n",
              "      <td>216</td>\n",
              "      <td>88.0</td>\n",
              "      <td>-2</td>\n",
              "      <td>2</td>\n",
              "      <td>216.0</td>\n",
              "    </tr>\n",
              "    <tr>\n",
              "      <th>42081</th>\n",
              "      <td>1</td>\n",
              "      <td>227</td>\n",
              "      <td>38.0</td>\n",
              "      <td>1</td>\n",
              "      <td>2</td>\n",
              "      <td>227.0</td>\n",
              "    </tr>\n",
              "    <tr>\n",
              "      <th>42082</th>\n",
              "      <td>0</td>\n",
              "      <td>16</td>\n",
              "      <td>232.0</td>\n",
              "      <td>-1</td>\n",
              "      <td>2</td>\n",
              "      <td>16.0</td>\n",
              "    </tr>\n",
              "    <tr>\n",
              "      <th>42083</th>\n",
              "      <td>0</td>\n",
              "      <td>201</td>\n",
              "      <td>87.0</td>\n",
              "      <td>-3</td>\n",
              "      <td>4</td>\n",
              "      <td>201.0</td>\n",
              "    </tr>\n",
              "  </tbody>\n",
              "</table>\n",
              "<p>42084 rows × 6 columns</p>\n",
              "</div>"
            ],
            "text/plain": [
              "       result  home_team  away_team  goal_diff  away_score  country\n",
              "0           2          1        2.0          0           0      1.0\n",
              "1           1          2        1.0          2           2      2.0\n",
              "2           1          1        2.0          1           1      1.0\n",
              "3           2          2        1.0          0           2      2.0\n",
              "4           1          1        2.0          3           0      1.0\n",
              "...       ...        ...        ...        ...         ...      ...\n",
              "42079       0        238        8.0         -3           4    238.0\n",
              "42080       0        216       88.0         -2           2    216.0\n",
              "42081       1        227       38.0          1           2    227.0\n",
              "42082       0         16      232.0         -1           2     16.0\n",
              "42083       0        201       87.0         -3           4    201.0\n",
              "\n",
              "[42084 rows x 6 columns]"
            ]
          },
          "execution_count": 57,
          "metadata": {
            "tags": []
          },
          "output_type": "execute_result"
        }
      ]
    },
    {
      "cell_type": "code",
      "metadata": {
        "id": "4rPrYo5Pc797"
      },
      "source": [
        "data['foal_diff'] = data['goal_diff'].values.astype('float')"
      ],
      "execution_count": null,
      "outputs": []
    },
    {
      "cell_type": "code",
      "metadata": {
        "colab": {
          "base_uri": "https://localhost:8080/",
          "height": 402
        },
        "id": "WKxTmKLQeDkn",
        "outputId": "040795ba-80e5-4982-cb76-e28840b01666"
      },
      "source": [
        "data"
      ],
      "execution_count": null,
      "outputs": [
        {
          "data": {
            "text/html": [
              "<div>\n",
              "<style scoped>\n",
              "    .dataframe tbody tr th:only-of-type {\n",
              "        vertical-align: middle;\n",
              "    }\n",
              "\n",
              "    .dataframe tbody tr th {\n",
              "        vertical-align: top;\n",
              "    }\n",
              "\n",
              "    .dataframe thead th {\n",
              "        text-align: right;\n",
              "    }\n",
              "</style>\n",
              "<table border=\"1\" class=\"dataframe\">\n",
              "  <thead>\n",
              "    <tr style=\"text-align: right;\">\n",
              "      <th></th>\n",
              "      <th>result</th>\n",
              "      <th>home_team</th>\n",
              "      <th>away_team</th>\n",
              "      <th>goal_diff</th>\n",
              "      <th>away_score</th>\n",
              "      <th>country</th>\n",
              "      <th>foal_diff</th>\n",
              "    </tr>\n",
              "  </thead>\n",
              "  <tbody>\n",
              "    <tr>\n",
              "      <th>0</th>\n",
              "      <td>2</td>\n",
              "      <td>1</td>\n",
              "      <td>2.0</td>\n",
              "      <td>0</td>\n",
              "      <td>0</td>\n",
              "      <td>1.0</td>\n",
              "      <td>0.0</td>\n",
              "    </tr>\n",
              "    <tr>\n",
              "      <th>1</th>\n",
              "      <td>1</td>\n",
              "      <td>2</td>\n",
              "      <td>1.0</td>\n",
              "      <td>2</td>\n",
              "      <td>2</td>\n",
              "      <td>2.0</td>\n",
              "      <td>2.0</td>\n",
              "    </tr>\n",
              "    <tr>\n",
              "      <th>2</th>\n",
              "      <td>1</td>\n",
              "      <td>1</td>\n",
              "      <td>2.0</td>\n",
              "      <td>1</td>\n",
              "      <td>1</td>\n",
              "      <td>1.0</td>\n",
              "      <td>1.0</td>\n",
              "    </tr>\n",
              "    <tr>\n",
              "      <th>3</th>\n",
              "      <td>2</td>\n",
              "      <td>2</td>\n",
              "      <td>1.0</td>\n",
              "      <td>0</td>\n",
              "      <td>2</td>\n",
              "      <td>2.0</td>\n",
              "      <td>0.0</td>\n",
              "    </tr>\n",
              "    <tr>\n",
              "      <th>4</th>\n",
              "      <td>1</td>\n",
              "      <td>1</td>\n",
              "      <td>2.0</td>\n",
              "      <td>3</td>\n",
              "      <td>0</td>\n",
              "      <td>1.0</td>\n",
              "      <td>3.0</td>\n",
              "    </tr>\n",
              "    <tr>\n",
              "      <th>...</th>\n",
              "      <td>...</td>\n",
              "      <td>...</td>\n",
              "      <td>...</td>\n",
              "      <td>...</td>\n",
              "      <td>...</td>\n",
              "      <td>...</td>\n",
              "      <td>...</td>\n",
              "    </tr>\n",
              "    <tr>\n",
              "      <th>42079</th>\n",
              "      <td>0</td>\n",
              "      <td>238</td>\n",
              "      <td>8.0</td>\n",
              "      <td>-3</td>\n",
              "      <td>4</td>\n",
              "      <td>238.0</td>\n",
              "      <td>-3.0</td>\n",
              "    </tr>\n",
              "    <tr>\n",
              "      <th>42080</th>\n",
              "      <td>0</td>\n",
              "      <td>216</td>\n",
              "      <td>88.0</td>\n",
              "      <td>-2</td>\n",
              "      <td>2</td>\n",
              "      <td>216.0</td>\n",
              "      <td>-2.0</td>\n",
              "    </tr>\n",
              "    <tr>\n",
              "      <th>42081</th>\n",
              "      <td>1</td>\n",
              "      <td>227</td>\n",
              "      <td>38.0</td>\n",
              "      <td>1</td>\n",
              "      <td>2</td>\n",
              "      <td>227.0</td>\n",
              "      <td>1.0</td>\n",
              "    </tr>\n",
              "    <tr>\n",
              "      <th>42082</th>\n",
              "      <td>0</td>\n",
              "      <td>16</td>\n",
              "      <td>232.0</td>\n",
              "      <td>-1</td>\n",
              "      <td>2</td>\n",
              "      <td>16.0</td>\n",
              "      <td>-1.0</td>\n",
              "    </tr>\n",
              "    <tr>\n",
              "      <th>42083</th>\n",
              "      <td>0</td>\n",
              "      <td>201</td>\n",
              "      <td>87.0</td>\n",
              "      <td>-3</td>\n",
              "      <td>4</td>\n",
              "      <td>201.0</td>\n",
              "      <td>-3.0</td>\n",
              "    </tr>\n",
              "  </tbody>\n",
              "</table>\n",
              "<p>42084 rows × 7 columns</p>\n",
              "</div>"
            ],
            "text/plain": [
              "       result  home_team  away_team  goal_diff  away_score  country  foal_diff\n",
              "0           2          1        2.0          0           0      1.0        0.0\n",
              "1           1          2        1.0          2           2      2.0        2.0\n",
              "2           1          1        2.0          1           1      1.0        1.0\n",
              "3           2          2        1.0          0           2      2.0        0.0\n",
              "4           1          1        2.0          3           0      1.0        3.0\n",
              "...       ...        ...        ...        ...         ...      ...        ...\n",
              "42079       0        238        8.0         -3           4    238.0       -3.0\n",
              "42080       0        216       88.0         -2           2    216.0       -2.0\n",
              "42081       1        227       38.0          1           2    227.0        1.0\n",
              "42082       0         16      232.0         -1           2     16.0       -1.0\n",
              "42083       0        201       87.0         -3           4    201.0       -3.0\n",
              "\n",
              "[42084 rows x 7 columns]"
            ]
          },
          "execution_count": 59,
          "metadata": {
            "tags": []
          },
          "output_type": "execute_result"
        }
      ]
    },
    {
      "cell_type": "code",
      "metadata": {
        "id": "JpEbDb5teEPv"
      },
      "source": [
        "###Splitting Data into Training and Test sets###\n",
        "\n",
        "from sklearn.model_selection import train_test_split"
      ],
      "execution_count": null,
      "outputs": []
    },
    {
      "cell_type": "code",
      "metadata": {
        "id": "Xgh7WbhUeNN8"
      },
      "source": [
        "X= data.loc[:,['home_team','away_team','country']].values.copy()\n",
        "y= data['goal_diff'].values.copy()"
      ],
      "execution_count": null,
      "outputs": []
    },
    {
      "cell_type": "code",
      "metadata": {
        "colab": {
          "base_uri": "https://localhost:8080/"
        },
        "id": "bDmtctiueRY6",
        "outputId": "1a98acb2-e76b-41aa-967b-8b4700ecb55a"
      },
      "source": [
        "print(X)\n",
        "print(y)"
      ],
      "execution_count": null,
      "outputs": [
        {
          "name": "stdout",
          "output_type": "stream",
          "text": [
            "[[  1.   2.   1.]\n",
            " [  2.   1.   2.]\n",
            " [  1.   2.   1.]\n",
            " ...\n",
            " [227.  38. 227.]\n",
            " [ 16. 232.  16.]\n",
            " [201.  87. 201.]]\n",
            "[ 0  2  1 ...  1 -1 -3]\n"
          ]
        }
      ]
    },
    {
      "cell_type": "code",
      "metadata": {
        "id": "EXfe_xK4ezfb"
      },
      "source": [
        "X_train , X_test , y_train , y_test = train_test_split(X,y, test_size=0.3, random_state=1)"
      ],
      "execution_count": null,
      "outputs": []
    },
    {
      "cell_type": "code",
      "metadata": {
        "colab": {
          "base_uri": "https://localhost:8080/"
        },
        "id": "NYy45IrXe-qn",
        "outputId": "3d25f5c5-872a-47c7-9e14-e9d50ff1d32d"
      },
      "source": [
        "X_train.shape"
      ],
      "execution_count": null,
      "outputs": [
        {
          "data": {
            "text/plain": [
              "(29458, 3)"
            ]
          },
          "execution_count": 64,
          "metadata": {
            "tags": []
          },
          "output_type": "execute_result"
        }
      ]
    },
    {
      "cell_type": "code",
      "metadata": {
        "colab": {
          "base_uri": "https://localhost:8080/"
        },
        "id": "jw07bFXVfBOe",
        "outputId": "576dbf3b-c406-4e7e-81c0-53fb53e009ee"
      },
      "source": [
        "X_test.shape"
      ],
      "execution_count": null,
      "outputs": [
        {
          "data": {
            "text/plain": [
              "(12626, 3)"
            ]
          },
          "execution_count": 65,
          "metadata": {
            "tags": []
          },
          "output_type": "execute_result"
        }
      ]
    },
    {
      "cell_type": "code",
      "metadata": {
        "id": "Mwwm3_UFfD_j"
      },
      "source": [
        "from sklearn.preprocessing import StandardScaler"
      ],
      "execution_count": null,
      "outputs": []
    },
    {
      "cell_type": "code",
      "metadata": {
        "id": "MJPTYqCql0Gu"
      },
      "source": [
        "sc = StandardScaler()\n",
        "\n",
        "sc.fit(X_train)\n",
        "\n",
        "X_train_std = sc.transform(X_train)"
      ],
      "execution_count": null,
      "outputs": []
    },
    {
      "cell_type": "code",
      "metadata": {
        "id": "vxi8R0fcl1rc"
      },
      "source": [
        "sc.fit(X_test)\n",
        "X_test_std = sc.transform(X_test)"
      ],
      "execution_count": null,
      "outputs": []
    },
    {
      "cell_type": "code",
      "metadata": {
        "colab": {
          "base_uri": "https://localhost:8080/"
        },
        "id": "nOaCaq5dl37z",
        "outputId": "97961243-3dcc-47a8-cd2c-81c4a1f8059e"
      },
      "source": [
        "X_train_std"
      ],
      "execution_count": null,
      "outputs": [
        {
          "data": {
            "text/plain": [
              "array([[-0.18101028, -0.50789495, -0.10932869],\n",
              "       [-0.98968809, -1.05919838, -0.94943115],\n",
              "       [ 0.62766752,  1.11699935,  0.73077376],\n",
              "       ...,\n",
              "       [-1.04850102, -1.04469039, -1.01052951],\n",
              "       [ 0.92173218,  0.08693242,  1.00571639],\n",
              "       [-1.09261072, -1.24780218, -1.05635328]])"
            ]
          },
          "execution_count": 69,
          "metadata": {
            "tags": []
          },
          "output_type": "execute_result"
        }
      ]
    },
    {
      "cell_type": "code",
      "metadata": {
        "colab": {
          "base_uri": "https://localhost:8080/"
        },
        "id": "hPhRsQS9l52X",
        "outputId": "59fbc703-77bc-429b-dc12-f002a7060fb4"
      },
      "source": [
        "d"
      ],
      "execution_count": null,
      "outputs": [
        {
          "data": {
            "text/plain": [
              "{'Abkhazia': 282,\n",
              " 'Afghanistan': 83,\n",
              " 'Albania': 88,\n",
              " 'Alderney': 255,\n",
              " 'Algeria': 153,\n",
              " 'American Samoa': 206,\n",
              " 'Andalusia': 42,\n",
              " 'Andorra': 238,\n",
              " 'Angola': 184,\n",
              " 'Anguilla': 208,\n",
              " 'Antigua and Barbuda': 174,\n",
              " 'Arameans Suryoye': 272,\n",
              " 'Argentina': 9,\n",
              " 'Armenia': 227,\n",
              " 'Artsakh': 284,\n",
              " 'Aruba': 49,\n",
              " 'Australia': 44,\n",
              " 'Austria': 7,\n",
              " 'Azerbaijan': 194,\n",
              " 'Bahamas': 245,\n",
              " 'Bahrain': 162,\n",
              " 'Bangladesh': 176,\n",
              " 'Barawa': 297,\n",
              " 'Barbados': 63,\n",
              " 'Basque Country': 25,\n",
              " 'Belarus': 61,\n",
              " 'Belgium': 10,\n",
              " 'Belize': 207,\n",
              " 'Benin': 135,\n",
              " 'Bermuda': 160,\n",
              " 'Bhutan': 250,\n",
              " 'Bolivia': 56,\n",
              " 'Bonaire': 276,\n",
              " 'Bosnia and Herzegovina': 236,\n",
              " 'Botswana': 189,\n",
              " 'Brazil': 26,\n",
              " 'British Virgin Islands': 239,\n",
              " 'Brittany': 34,\n",
              " 'Brunei': 199,\n",
              " 'Bulgaria': 53,\n",
              " 'Burkina Faso': 166,\n",
              " 'Burma': 110,\n",
              " 'Burundi': 179,\n",
              " 'Cambodia': 123,\n",
              " 'Cameroon': 136,\n",
              " 'Canada': 29,\n",
              " 'Canary Islands': 235,\n",
              " 'Cape Verde': 191,\n",
              " 'Cascadia': 302,\n",
              " 'Catalonia': 24,\n",
              " 'Cayman Islands': 209,\n",
              " 'Central African Republic': 137,\n",
              " 'Central Spain': 47,\n",
              " 'Chad': 183,\n",
              " 'Chagos Islands': 293,\n",
              " 'Chameria': 307,\n",
              " 'Chile': 18,\n",
              " 'China PR': 43,\n",
              " 'Chinese Taipei': 144,\n",
              " 'Colombia': 75,\n",
              " 'Comoros': 270,\n",
              " 'Congo': 140,\n",
              " 'Cook Islands': 172,\n",
              " 'Corsica': 243,\n",
              " 'Costa Rica': 31,\n",
              " 'County of Nice': 289,\n",
              " 'Crimea': 265,\n",
              " 'Croatia': 81,\n",
              " 'Cuba': 74,\n",
              " 'Curaçao': 67,\n",
              " 'Cyprus': 145,\n",
              " 'Czech Republic': 228,\n",
              " 'Czechoslovakia': 13,\n",
              " 'DR Congo': 95,\n",
              " 'Darfur': 279,\n",
              " 'Denmark': 23,\n",
              " 'Djibouti': 94,\n",
              " 'Dominica': 68,\n",
              " 'Dominican Republic': 185,\n",
              " 'East Timor': 258,\n",
              " 'Ecuador': 76,\n",
              " 'Egypt': 50,\n",
              " 'El Salvador': 62,\n",
              " 'Ellan Vannin': 287,\n",
              " 'England': 2,\n",
              " 'Equatorial Guinea': 200,\n",
              " 'Eritrea': 244,\n",
              " 'Estonia': 30,\n",
              " 'Eswatini': 169,\n",
              " 'Ethiopia': 98,\n",
              " 'Falkland Islands': 260,\n",
              " 'Faroe Islands': 175,\n",
              " 'Felvidék': 292,\n",
              " 'Fiji': 107,\n",
              " 'Finland': 20,\n",
              " 'France': 11,\n",
              " 'French Guiana': 73,\n",
              " 'Frøya': 240,\n",
              " 'Gabon': 138,\n",
              " 'Galicia': 40,\n",
              " 'Gambia': 113,\n",
              " 'Georgia': 193,\n",
              " 'German DR': 119,\n",
              " 'Germany': 16,\n",
              " 'Ghana': 104,\n",
              " 'Gibraltar': 230,\n",
              " 'Gotland': 246,\n",
              " 'Gozo': 275,\n",
              " 'Greece': 66,\n",
              " 'Greenland': 203,\n",
              " 'Grenada': 148,\n",
              " 'Guadeloupe': 70,\n",
              " 'Guam': 182,\n",
              " 'Guatemala': 32,\n",
              " 'Guernsey': 229,\n",
              " 'Guinea': 152,\n",
              " 'Guinea-Bissau': 118,\n",
              " 'Guyana': 59,\n",
              " 'Găgăuzia': 263,\n",
              " 'Haiti': 51,\n",
              " 'Hitra': 241,\n",
              " 'Honduras': 58,\n",
              " 'Hong Kong': 114,\n",
              " 'Hungary': 8,\n",
              " 'Iceland': 87,\n",
              " 'India': 84,\n",
              " 'Indonesia': 117,\n",
              " 'Iran': 93,\n",
              " 'Iraq': 146,\n",
              " 'Iraqi Kurdistan': 274,\n",
              " 'Isle of Man': 231,\n",
              " 'Isle of Wight': 220,\n",
              " 'Israel': 71,\n",
              " 'Italy': 17,\n",
              " 'Ivory Coast': 139,\n",
              " 'Jamaica': 54,\n",
              " 'Japan': 27,\n",
              " 'Jersey': 218,\n",
              " 'Jordan': 155,\n",
              " 'Kabylia': 303,\n",
              " 'Kazakhstan': 223,\n",
              " 'Kenya': 55,\n",
              " 'Kernow': 121,\n",
              " 'Kiribati': 195,\n",
              " 'Kosovo': 261,\n",
              " 'Kuwait': 154,\n",
              " 'Kyrgyzstan': 192,\n",
              " 'Kárpátalja': 298,\n",
              " 'Laos': 158,\n",
              " 'Latvia': 39,\n",
              " 'Lebanon': 124,\n",
              " 'Lesotho': 171,\n",
              " 'Liberia': 157,\n",
              " 'Libya': 151,\n",
              " 'Liechtenstein': 201,\n",
              " 'Lithuania': 45,\n",
              " 'Luxembourg': 21,\n",
              " 'Macau': 97,\n",
              " 'Madagascar': 89,\n",
              " 'Madrid': 285,\n",
              " 'Malawi': 133,\n",
              " 'Malaysia': 116,\n",
              " 'Maldives': 237,\n",
              " 'Mali': 141,\n",
              " 'Malta': 130,\n",
              " 'Manchukuo': 80,\n",
              " 'Martinique': 85,\n",
              " 'Matabeleland': 301,\n",
              " 'Mauritania': 167,\n",
              " 'Mauritius': 91,\n",
              " 'Mayotte': 256,\n",
              " 'Menorca': 269,\n",
              " 'Mexico': 48,\n",
              " 'Micronesia': 249,\n",
              " 'Moldova': 221,\n",
              " 'Monaco': 252,\n",
              " 'Mongolia': 143,\n",
              " 'Montenegro': 163,\n",
              " 'Montserrat': 233,\n",
              " 'Morocco': 134,\n",
              " 'Mozambique': 181,\n",
              " 'Myanmar': 305,\n",
              " 'Namibia': 212,\n",
              " 'Nepal': 202,\n",
              " 'Netherlands': 12,\n",
              " 'New Caledonia': 106,\n",
              " 'New Zealand': 37,\n",
              " 'Nicaragua': 82,\n",
              " 'Niger': 161,\n",
              " 'Nigeria': 108,\n",
              " 'Niue': 204,\n",
              " 'North Korea': 127,\n",
              " 'North Macedonia': 232,\n",
              " 'North Vietnam': 142,\n",
              " 'Northern Cyprus': 190,\n",
              " 'Northern Ireland': 4,\n",
              " 'Northern Mariana Islands': 268,\n",
              " 'Norway': 19,\n",
              " 'Occitania': 266,\n",
              " 'Oman': 177,\n",
              " 'Orkney': 251,\n",
              " 'Padania': 273,\n",
              " 'Pakistan': 125,\n",
              " 'Palau': 210,\n",
              " 'Palestine': 164,\n",
              " 'Panama': 78,\n",
              " 'Panjab': 300,\n",
              " 'Papua New Guinea': 165,\n",
              " 'Paraguay': 28,\n",
              " 'Parishes of Jersey': 306,\n",
              " 'Peru': 57,\n",
              " 'Philippines': 52,\n",
              " 'Poland': 35,\n",
              " 'Portugal': 41,\n",
              " 'Provence': 271,\n",
              " 'Puerto Rico': 99,\n",
              " 'Qatar': 173,\n",
              " 'Raetia': 278,\n",
              " 'Republic of Ireland': 64,\n",
              " 'Republic of St. Pauli': 262,\n",
              " 'Rhodes': 248,\n",
              " 'Romani people': 291,\n",
              " 'Romania': 38,\n",
              " 'Russia': 22,\n",
              " 'Rwanda': 187,\n",
              " 'Réunion': 100,\n",
              " 'Saare County': 247,\n",
              " 'Saarland': 122,\n",
              " 'Saint Helena': 308,\n",
              " 'Saint Kitts and Nevis': 77,\n",
              " 'Saint Lucia': 147,\n",
              " 'Saint Martin': 215,\n",
              " 'Saint Pierre and Miquelon': 283,\n",
              " 'Saint Vincent and the Grenadines': 159,\n",
              " 'Samoa': 205,\n",
              " 'San Marino': 216,\n",
              " 'Sark': 254,\n",
              " 'Saudi Arabia': 168,\n",
              " 'Scotland': 1,\n",
              " 'Senegal': 150,\n",
              " 'Serbia': 234,\n",
              " 'Seychelles': 186,\n",
              " 'Shetland': 219,\n",
              " 'Sierra Leone': 101,\n",
              " 'Silesia': 69,\n",
              " 'Singapore': 115,\n",
              " 'Sint Maarten': 211,\n",
              " 'Slovakia': 79,\n",
              " 'Slovenia': 217,\n",
              " 'Solomon Islands': 156,\n",
              " 'Somalia': 170,\n",
              " 'Somaliland': 295,\n",
              " 'South Africa': 105,\n",
              " 'South Korea': 103,\n",
              " 'South Ossetia': 288,\n",
              " 'South Sudan': 281,\n",
              " 'Spain': 33,\n",
              " 'Sri Lanka': 111,\n",
              " 'Sudan': 129,\n",
              " 'Suriname': 72,\n",
              " 'Sweden': 15,\n",
              " 'Switzerland': 14,\n",
              " 'Syria': 131,\n",
              " 'Székely Land': 290,\n",
              " 'Sápmi': 267,\n",
              " 'São Tomé and Príncipe': 188,\n",
              " 'Tahiti': 112,\n",
              " 'Tajikistan': 224,\n",
              " 'Tamil Eelam': 280,\n",
              " 'Tanzania': 92,\n",
              " 'Thailand': 149,\n",
              " 'Tibet': 264,\n",
              " 'Timor-Leste': 304,\n",
              " 'Togo': 128,\n",
              " 'Tonga': 196,\n",
              " 'Trinidad and Tobago': 65,\n",
              " 'Tunisia': 132,\n",
              " 'Turkey': 46,\n",
              " 'Turkmenistan': 226,\n",
              " 'Turks and Caicos Islands': 257,\n",
              " 'Tuvalu': 253,\n",
              " 'U.S. Virgin Islands': 242,\n",
              " 'Uganda': 60,\n",
              " 'Ukraine': 222,\n",
              " 'United Arab Emirates': 198,\n",
              " 'United Koreans in Japan': 294,\n",
              " 'United States': 5,\n",
              " 'Uruguay': 6,\n",
              " 'Uzbekistan': 225,\n",
              " 'Vanuatu': 120,\n",
              " 'Vatican City': 286,\n",
              " 'Venezuela': 109,\n",
              " 'Vietnam': 96,\n",
              " 'Vietnam Republic': 126,\n",
              " 'Wales': 3,\n",
              " 'Wallis Islands and Futuna': 197,\n",
              " 'Western Armenia': 296,\n",
              " 'Western Isles': 259,\n",
              " 'Western Sahara': 277,\n",
              " 'Yemen': 180,\n",
              " 'Yemen DPR': 178,\n",
              " 'Ynys Môn': 214,\n",
              " 'Yorkshire': 299,\n",
              " 'Yugoslavia': 36,\n",
              " 'Zambia': 90,\n",
              " 'Zanzibar': 102,\n",
              " 'Zimbabwe': 86,\n",
              " 'Åland Islands': 213}"
            ]
          },
          "execution_count": 70,
          "metadata": {
            "tags": []
          },
          "output_type": "execute_result"
        }
      ]
    },
    {
      "cell_type": "code",
      "metadata": {
        "colab": {
          "base_uri": "https://localhost:8080/"
        },
        "id": "j2dPkO5ll-u6",
        "outputId": "70539b40-181a-4009-f845-fb41045fe92b"
      },
      "source": [
        "# x1 will show the match that is happening \n",
        "# this is an example where we play Germany(16) vs Finland(20) in Germany (mapped according to above dictionary) , clearly Ger should win as they're \n",
        "# stronger than Finland lets see if the predicted goal difference is positive\n",
        "\n",
        "\n",
        "\n",
        "x1 = np.array([[16,20,16]])\n",
        "\n",
        "x1_std = sc.transform(x1)\n",
        "x1_std\n"
      ],
      "execution_count": null,
      "outputs": [
        {
          "data": {
            "text/plain": [
              "array([[-1.0832626 , -1.04079256, -1.0411841 ]])"
            ]
          },
          "execution_count": 71,
          "metadata": {
            "tags": []
          },
          "output_type": "execute_result"
        }
      ]
    },
    {
      "cell_type": "code",
      "metadata": {
        "id": "YK8wrNWJnGXi"
      },
      "source": [
        "from sklearn.ensemble import RandomForestRegressor"
      ],
      "execution_count": null,
      "outputs": []
    },
    {
      "cell_type": "code",
      "metadata": {
        "id": "9ZPFj_pknKwT"
      },
      "source": [
        "regressor = RandomForestRegressor"
      ],
      "execution_count": null,
      "outputs": []
    },
    {
      "cell_type": "code",
      "metadata": {
        "colab": {
          "base_uri": "https://localhost:8080/"
        },
        "id": "2_U3z3cNnMVT",
        "outputId": "f79aa983-fc6f-4ecb-ada5-998b9cdcf70b"
      },
      "source": [
        "#Below i used RandomizedSearchCV to find the best parameters for training , i saw this in a youtube video \n",
        "\n",
        "n_estimators = [int(x) for x in np.linspace(start = 100, stop = 1200, num = 12)]\n",
        "print(n_estimators)\n",
        "\n",
        "from sklearn.model_selection import RandomizedSearchCV"
      ],
      "execution_count": null,
      "outputs": [
        {
          "name": "stdout",
          "output_type": "stream",
          "text": [
            "[100, 200, 300, 400, 500, 600, 700, 800, 900, 1000, 1100, 1200]\n"
          ]
        }
      ]
    },
    {
      "cell_type": "code",
      "metadata": {
        "id": "jYq8XrYgncjX"
      },
      "source": [
        "#Randomized Search CV\n",
        "\n",
        "# Number of trees in random forest\n",
        "n_estimators = [int(x) for x in np.linspace(start = 100, stop = 1200, num = 12)]\n",
        "# Number of features to consider at every split\n",
        "max_features = ['auto', 'sqrt']\n",
        "# Maximum number of levels in tree\n",
        "max_depth = [int(x) for x in np.linspace(5, 30, num = 6)]\n",
        "# max_depth.append(None)\n",
        "# Minimum number of samples required to split a node\n",
        "min_samples_split = [2, 5, 10, 15, 100]\n",
        "# Minimum number of samples required at each leaf node\n",
        "min_samples_leaf = [1, 2, 5, 10]"
      ],
      "execution_count": null,
      "outputs": []
    },
    {
      "cell_type": "code",
      "metadata": {
        "colab": {
          "base_uri": "https://localhost:8080/"
        },
        "id": "aIzAUHsJndsu",
        "outputId": "47cc4f9d-af08-4600-cdc5-9e15a9af771c"
      },
      "source": [
        "# Create the random grid\n",
        "random_grid = {'n_estimators': n_estimators,\n",
        "               'max_features': max_features,\n",
        "               'max_depth': max_depth,\n",
        "               'min_samples_split': min_samples_split,\n",
        "               'min_samples_leaf': min_samples_leaf}\n",
        "\n",
        "print(random_grid)"
      ],
      "execution_count": null,
      "outputs": [
        {
          "name": "stdout",
          "output_type": "stream",
          "text": [
            "{'n_estimators': [100, 200, 300, 400, 500, 600, 700, 800, 900, 1000, 1100, 1200], 'max_features': ['auto', 'sqrt'], 'max_depth': [5, 10, 15, 20, 25, 30], 'min_samples_split': [2, 5, 10, 15, 100], 'min_samples_leaf': [1, 2, 5, 10]}\n"
          ]
        }
      ]
    },
    {
      "cell_type": "code",
      "metadata": {
        "id": "2h-gVS1yniSX"
      },
      "source": [
        "# Use the random grid to search for best hyperparameters\n",
        "# First create the base model to tune\n",
        "rf = RandomForestRegressor()\n"
      ],
      "execution_count": null,
      "outputs": []
    },
    {
      "cell_type": "code",
      "metadata": {
        "id": "-eqPROP_nlhu"
      },
      "source": [
        "# Random search of parameters, using 3 fold cross validation, \n",
        "# search across 100 different combinations\n",
        "rf_random = RandomizedSearchCV(estimator = rf, param_distributions = random_grid,scoring='neg_mean_squared_error',\n",
        "                               n_iter = 10, cv = 5, verbose=2, random_state=42, n_jobs = 1)"
      ],
      "execution_count": null,
      "outputs": []
    },
    {
      "cell_type": "code",
      "metadata": {
        "colab": {
          "background_save": true,
          "base_uri": "https://localhost:8080/"
        },
        "id": "l17SRcJMnnnH",
        "outputId": "a5da988a-f420-4fb8-e27a-d8081e5ba4c5"
      },
      "source": [
        "rf_random.fit(X_train_std,y_train)"
      ],
      "execution_count": null,
      "outputs": [
        {
          "name": "stdout",
          "output_type": "stream",
          "text": [
            "Fitting 5 folds for each of 10 candidates, totalling 50 fits\n",
            "[CV] n_estimators=900, min_samples_split=5, min_samples_leaf=5, max_features=sqrt, max_depth=10 \n"
          ]
        },
        {
          "name": "stderr",
          "output_type": "stream",
          "text": [
            "[Parallel(n_jobs=1)]: Using backend SequentialBackend with 1 concurrent workers.\n"
          ]
        },
        {
          "name": "stdout",
          "output_type": "stream",
          "text": [
            "[CV]  n_estimators=900, min_samples_split=5, min_samples_leaf=5, max_features=sqrt, max_depth=10, total=  10.9s\n",
            "[CV] n_estimators=900, min_samples_split=5, min_samples_leaf=5, max_features=sqrt, max_depth=10 \n"
          ]
        },
        {
          "name": "stderr",
          "output_type": "stream",
          "text": [
            "[Parallel(n_jobs=1)]: Done   1 out of   1 | elapsed:   10.9s remaining:    0.0s\n"
          ]
        },
        {
          "name": "stdout",
          "output_type": "stream",
          "text": [
            "[CV]  n_estimators=900, min_samples_split=5, min_samples_leaf=5, max_features=sqrt, max_depth=10, total=  10.6s\n",
            "[CV] n_estimators=900, min_samples_split=5, min_samples_leaf=5, max_features=sqrt, max_depth=10 \n",
            "[CV]  n_estimators=900, min_samples_split=5, min_samples_leaf=5, max_features=sqrt, max_depth=10, total=  10.5s\n",
            "[CV] n_estimators=900, min_samples_split=5, min_samples_leaf=5, max_features=sqrt, max_depth=10 \n",
            "[CV]  n_estimators=900, min_samples_split=5, min_samples_leaf=5, max_features=sqrt, max_depth=10, total=  10.5s\n",
            "[CV] n_estimators=900, min_samples_split=5, min_samples_leaf=5, max_features=sqrt, max_depth=10 \n",
            "[CV]  n_estimators=900, min_samples_split=5, min_samples_leaf=5, max_features=sqrt, max_depth=10, total=  10.5s\n",
            "[CV] n_estimators=1100, min_samples_split=10, min_samples_leaf=2, max_features=sqrt, max_depth=15 \n",
            "[CV]  n_estimators=1100, min_samples_split=10, min_samples_leaf=2, max_features=sqrt, max_depth=15, total=  16.8s\n",
            "[CV] n_estimators=1100, min_samples_split=10, min_samples_leaf=2, max_features=sqrt, max_depth=15 \n",
            "[CV]  n_estimators=1100, min_samples_split=10, min_samples_leaf=2, max_features=sqrt, max_depth=15, total=  16.6s\n",
            "[CV] n_estimators=1100, min_samples_split=10, min_samples_leaf=2, max_features=sqrt, max_depth=15 \n",
            "[CV]  n_estimators=1100, min_samples_split=10, min_samples_leaf=2, max_features=sqrt, max_depth=15, total=  16.5s\n",
            "[CV] n_estimators=1100, min_samples_split=10, min_samples_leaf=2, max_features=sqrt, max_depth=15 \n",
            "[CV]  n_estimators=1100, min_samples_split=10, min_samples_leaf=2, max_features=sqrt, max_depth=15, total=  16.6s\n",
            "[CV] n_estimators=1100, min_samples_split=10, min_samples_leaf=2, max_features=sqrt, max_depth=15 \n",
            "[CV]  n_estimators=1100, min_samples_split=10, min_samples_leaf=2, max_features=sqrt, max_depth=15, total=  16.6s\n",
            "[CV] n_estimators=300, min_samples_split=100, min_samples_leaf=5, max_features=auto, max_depth=15 \n",
            "[CV]  n_estimators=300, min_samples_split=100, min_samples_leaf=5, max_features=auto, max_depth=15, total=   8.6s\n",
            "[CV] n_estimators=300, min_samples_split=100, min_samples_leaf=5, max_features=auto, max_depth=15 \n",
            "[CV]  n_estimators=300, min_samples_split=100, min_samples_leaf=5, max_features=auto, max_depth=15, total=   7.6s\n",
            "[CV] n_estimators=300, min_samples_split=100, min_samples_leaf=5, max_features=auto, max_depth=15 \n",
            "[CV]  n_estimators=300, min_samples_split=100, min_samples_leaf=5, max_features=auto, max_depth=15, total=   7.5s\n",
            "[CV] n_estimators=300, min_samples_split=100, min_samples_leaf=5, max_features=auto, max_depth=15 \n",
            "[CV]  n_estimators=300, min_samples_split=100, min_samples_leaf=5, max_features=auto, max_depth=15, total=   7.4s\n",
            "[CV] n_estimators=300, min_samples_split=100, min_samples_leaf=5, max_features=auto, max_depth=15 \n",
            "[CV]  n_estimators=300, min_samples_split=100, min_samples_leaf=5, max_features=auto, max_depth=15, total=   7.4s\n",
            "[CV] n_estimators=400, min_samples_split=5, min_samples_leaf=5, max_features=auto, max_depth=15 \n",
            "[CV]  n_estimators=400, min_samples_split=5, min_samples_leaf=5, max_features=auto, max_depth=15, total=  11.8s\n",
            "[CV] n_estimators=400, min_samples_split=5, min_samples_leaf=5, max_features=auto, max_depth=15 \n",
            "[CV]  n_estimators=400, min_samples_split=5, min_samples_leaf=5, max_features=auto, max_depth=15, total=  11.8s\n",
            "[CV] n_estimators=400, min_samples_split=5, min_samples_leaf=5, max_features=auto, max_depth=15 \n",
            "[CV]  n_estimators=400, min_samples_split=5, min_samples_leaf=5, max_features=auto, max_depth=15, total=  11.7s\n",
            "[CV] n_estimators=400, min_samples_split=5, min_samples_leaf=5, max_features=auto, max_depth=15 \n",
            "[CV]  n_estimators=400, min_samples_split=5, min_samples_leaf=5, max_features=auto, max_depth=15, total=  11.8s\n",
            "[CV] n_estimators=400, min_samples_split=5, min_samples_leaf=5, max_features=auto, max_depth=15 \n",
            "[CV]  n_estimators=400, min_samples_split=5, min_samples_leaf=5, max_features=auto, max_depth=15, total=  11.7s\n",
            "[CV] n_estimators=700, min_samples_split=5, min_samples_leaf=10, max_features=auto, max_depth=20 \n",
            "[CV]  n_estimators=700, min_samples_split=5, min_samples_leaf=10, max_features=auto, max_depth=20, total=  20.6s\n",
            "[CV] n_estimators=700, min_samples_split=5, min_samples_leaf=10, max_features=auto, max_depth=20 \n",
            "[CV]  n_estimators=700, min_samples_split=5, min_samples_leaf=10, max_features=auto, max_depth=20, total=  20.7s\n",
            "[CV] n_estimators=700, min_samples_split=5, min_samples_leaf=10, max_features=auto, max_depth=20 \n",
            "[CV]  n_estimators=700, min_samples_split=5, min_samples_leaf=10, max_features=auto, max_depth=20, total=  20.6s\n",
            "[CV] n_estimators=700, min_samples_split=5, min_samples_leaf=10, max_features=auto, max_depth=20 \n",
            "[CV]  n_estimators=700, min_samples_split=5, min_samples_leaf=10, max_features=auto, max_depth=20, total=  20.4s\n",
            "[CV] n_estimators=700, min_samples_split=5, min_samples_leaf=10, max_features=auto, max_depth=20 \n",
            "[CV]  n_estimators=700, min_samples_split=5, min_samples_leaf=10, max_features=auto, max_depth=20, total=  20.6s\n",
            "[CV] n_estimators=1000, min_samples_split=2, min_samples_leaf=1, max_features=sqrt, max_depth=25 \n",
            "[CV]  n_estimators=1000, min_samples_split=2, min_samples_leaf=1, max_features=sqrt, max_depth=25, total=  23.1s\n",
            "[CV] n_estimators=1000, min_samples_split=2, min_samples_leaf=1, max_features=sqrt, max_depth=25 \n",
            "[CV]  n_estimators=1000, min_samples_split=2, min_samples_leaf=1, max_features=sqrt, max_depth=25, total=  22.6s\n",
            "[CV] n_estimators=1000, min_samples_split=2, min_samples_leaf=1, max_features=sqrt, max_depth=25 \n",
            "[CV]  n_estimators=1000, min_samples_split=2, min_samples_leaf=1, max_features=sqrt, max_depth=25, total=  22.5s\n",
            "[CV] n_estimators=1000, min_samples_split=2, min_samples_leaf=1, max_features=sqrt, max_depth=25 \n",
            "[CV]  n_estimators=1000, min_samples_split=2, min_samples_leaf=1, max_features=sqrt, max_depth=25, total=  22.6s\n",
            "[CV] n_estimators=1000, min_samples_split=2, min_samples_leaf=1, max_features=sqrt, max_depth=25 \n",
            "[CV]  n_estimators=1000, min_samples_split=2, min_samples_leaf=1, max_features=sqrt, max_depth=25, total=  22.6s\n",
            "[CV] n_estimators=1100, min_samples_split=15, min_samples_leaf=10, max_features=sqrt, max_depth=5 \n",
            "[CV]  n_estimators=1100, min_samples_split=15, min_samples_leaf=10, max_features=sqrt, max_depth=5, total=   8.2s\n",
            "[CV] n_estimators=1100, min_samples_split=15, min_samples_leaf=10, max_features=sqrt, max_depth=5 \n",
            "[CV]  n_estimators=1100, min_samples_split=15, min_samples_leaf=10, max_features=sqrt, max_depth=5, total=   8.2s\n",
            "[CV] n_estimators=1100, min_samples_split=15, min_samples_leaf=10, max_features=sqrt, max_depth=5 \n",
            "[CV]  n_estimators=1100, min_samples_split=15, min_samples_leaf=10, max_features=sqrt, max_depth=5, total=   8.1s\n",
            "[CV] n_estimators=1100, min_samples_split=15, min_samples_leaf=10, max_features=sqrt, max_depth=5 \n",
            "[CV]  n_estimators=1100, min_samples_split=15, min_samples_leaf=10, max_features=sqrt, max_depth=5, total=   8.1s\n",
            "[CV] n_estimators=1100, min_samples_split=15, min_samples_leaf=10, max_features=sqrt, max_depth=5 \n",
            "[CV]  n_estimators=1100, min_samples_split=15, min_samples_leaf=10, max_features=sqrt, max_depth=5, total=   8.1s\n",
            "[CV] n_estimators=300, min_samples_split=15, min_samples_leaf=1, max_features=sqrt, max_depth=15 \n",
            "[CV]  n_estimators=300, min_samples_split=15, min_samples_leaf=1, max_features=sqrt, max_depth=15, total=   4.5s\n",
            "[CV] n_estimators=300, min_samples_split=15, min_samples_leaf=1, max_features=sqrt, max_depth=15 \n",
            "[CV]  n_estimators=300, min_samples_split=15, min_samples_leaf=1, max_features=sqrt, max_depth=15, total=   4.4s\n",
            "[CV] n_estimators=300, min_samples_split=15, min_samples_leaf=1, max_features=sqrt, max_depth=15 \n",
            "[CV]  n_estimators=300, min_samples_split=15, min_samples_leaf=1, max_features=sqrt, max_depth=15, total=   4.4s\n",
            "[CV] n_estimators=300, min_samples_split=15, min_samples_leaf=1, max_features=sqrt, max_depth=15 \n",
            "[CV]  n_estimators=300, min_samples_split=15, min_samples_leaf=1, max_features=sqrt, max_depth=15, total=   4.5s\n",
            "[CV] n_estimators=300, min_samples_split=15, min_samples_leaf=1, max_features=sqrt, max_depth=15 \n",
            "[CV]  n_estimators=300, min_samples_split=15, min_samples_leaf=1, max_features=sqrt, max_depth=15, total=   4.4s\n",
            "[CV] n_estimators=700, min_samples_split=10, min_samples_leaf=2, max_features=sqrt, max_depth=5 \n",
            "[CV]  n_estimators=700, min_samples_split=10, min_samples_leaf=2, max_features=sqrt, max_depth=5, total=   5.2s\n",
            "[CV] n_estimators=700, min_samples_split=10, min_samples_leaf=2, max_features=sqrt, max_depth=5 \n",
            "[CV]  n_estimators=700, min_samples_split=10, min_samples_leaf=2, max_features=sqrt, max_depth=5, total=   5.2s\n",
            "[CV] n_estimators=700, min_samples_split=10, min_samples_leaf=2, max_features=sqrt, max_depth=5 \n",
            "[CV]  n_estimators=700, min_samples_split=10, min_samples_leaf=2, max_features=sqrt, max_depth=5, total=   5.1s\n",
            "[CV] n_estimators=700, min_samples_split=10, min_samples_leaf=2, max_features=sqrt, max_depth=5 \n",
            "[CV]  n_estimators=700, min_samples_split=10, min_samples_leaf=2, max_features=sqrt, max_depth=5, total=   5.1s\n",
            "[CV] n_estimators=700, min_samples_split=10, min_samples_leaf=2, max_features=sqrt, max_depth=5 \n",
            "[CV]  n_estimators=700, min_samples_split=10, min_samples_leaf=2, max_features=sqrt, max_depth=5, total=   5.2s\n",
            "[CV] n_estimators=700, min_samples_split=15, min_samples_leaf=1, max_features=auto, max_depth=20 \n",
            "[CV]  n_estimators=700, min_samples_split=15, min_samples_leaf=1, max_features=auto, max_depth=20, total=  23.5s\n",
            "[CV] n_estimators=700, min_samples_split=15, min_samples_leaf=1, max_features=auto, max_depth=20 \n",
            "[CV]  n_estimators=700, min_samples_split=15, min_samples_leaf=1, max_features=auto, max_depth=20, total=  23.0s\n",
            "[CV] n_estimators=700, min_samples_split=15, min_samples_leaf=1, max_features=auto, max_depth=20 \n",
            "[CV]  n_estimators=700, min_samples_split=15, min_samples_leaf=1, max_features=auto, max_depth=20, total=  22.9s\n",
            "[CV] n_estimators=700, min_samples_split=15, min_samples_leaf=1, max_features=auto, max_depth=20 \n",
            "[CV]  n_estimators=700, min_samples_split=15, min_samples_leaf=1, max_features=auto, max_depth=20, total=  22.8s\n",
            "[CV] n_estimators=700, min_samples_split=15, min_samples_leaf=1, max_features=auto, max_depth=20 \n",
            "[CV]  n_estimators=700, min_samples_split=15, min_samples_leaf=1, max_features=auto, max_depth=20, total=  22.9s\n"
          ]
        },
        {
          "name": "stderr",
          "output_type": "stream",
          "text": [
            "[Parallel(n_jobs=1)]: Done  50 out of  50 | elapsed: 10.9min finished\n"
          ]
        },
        {
          "data": {
            "text/plain": [
              "RandomizedSearchCV(cv=5, error_score=nan,\n",
              "                   estimator=RandomForestRegressor(bootstrap=True,\n",
              "                                                   ccp_alpha=0.0,\n",
              "                                                   criterion='mse',\n",
              "                                                   max_depth=None,\n",
              "                                                   max_features='auto',\n",
              "                                                   max_leaf_nodes=None,\n",
              "                                                   max_samples=None,\n",
              "                                                   min_impurity_decrease=0.0,\n",
              "                                                   min_impurity_split=None,\n",
              "                                                   min_samples_leaf=1,\n",
              "                                                   min_samples_split=2,\n",
              "                                                   min_weight_fraction_leaf=0.0,\n",
              "                                                   n_estimators=100,\n",
              "                                                   n_jobs=None, oob_score=Fals...\n",
              "                   iid='deprecated', n_iter=10, n_jobs=1,\n",
              "                   param_distributions={'max_depth': [5, 10, 15, 20, 25, 30],\n",
              "                                        'max_features': ['auto', 'sqrt'],\n",
              "                                        'min_samples_leaf': [1, 2, 5, 10],\n",
              "                                        'min_samples_split': [2, 5, 10, 15,\n",
              "                                                              100],\n",
              "                                        'n_estimators': [100, 200, 300, 400,\n",
              "                                                         500, 600, 700, 800,\n",
              "                                                         900, 1000, 1100,\n",
              "                                                         1200]},\n",
              "                   pre_dispatch='2*n_jobs', random_state=42, refit=True,\n",
              "                   return_train_score=False, scoring='neg_mean_squared_error',\n",
              "                   verbose=2)"
            ]
          },
          "execution_count": null,
          "metadata": {},
          "output_type": "execute_result"
        }
      ]
    },
    {
      "cell_type": "code",
      "metadata": {
        "colab": {
          "background_save": true
        },
        "id": "80CVpFUbnpv-",
        "outputId": "2b0008a9-671d-4648-e99c-986ec6a75259"
      },
      "source": [
        "rf_random.predict(x1_std)"
      ],
      "execution_count": null,
      "outputs": [
        {
          "data": {
            "text/plain": [
              "array([2.44928324])"
            ]
          },
          "execution_count": null,
          "metadata": {},
          "output_type": "execute_result"
        }
      ]
    },
    {
      "cell_type": "code",
      "metadata": {
        "colab": {
          "background_save": true
        },
        "id": "uNEAvXQKqP9n"
      },
      "source": [
        "### above result shows that the home team (Germany) would have a goal difference of around 2.541 if they played Finland in Germany"
      ],
      "execution_count": null,
      "outputs": []
    },
    {
      "cell_type": "code",
      "metadata": {
        "colab": {
          "background_save": true
        },
        "id": "5aY_wWo9qhKu"
      },
      "source": [
        "pred = rf_random.predict(X_test_std)"
      ],
      "execution_count": null,
      "outputs": []
    },
    {
      "cell_type": "code",
      "metadata": {
        "colab": {
          "background_save": true
        },
        "id": "5qFthKIeqlP_",
        "outputId": "f0236649-67ef-46a1-fb6d-9a0f7b400cdc"
      },
      "source": [
        "import matplotlib.pyplot as plt\n",
        "\n",
        "\n",
        "plt.scatter(y_test,pred)"
      ],
      "execution_count": null,
      "outputs": [
        {
          "data": {
            "text/plain": [
              "<matplotlib.collections.PathCollection at 0x7f30ae266e50>"
            ]
          },
          "execution_count": null,
          "metadata": {},
          "output_type": "execute_result"
        },
        {
          "data": {
            "image/png": "[encoded data removed]",
            "text/plain": [
              "<Figure size 432x288 with 1 Axes>"
            ]
          },
          "metadata": {},
          "output_type": "display_data"
        }
      ]
    },
    {
      "cell_type": "code",
      "metadata": {
        "colab": {
          "background_save": true
        },
        "id": "2uNxEMnMrK_T",
        "outputId": "abcb76b7-7664-424e-c880-427d6f1da397"
      },
      "source": [
        "#the gaussian, estimating bias, however looks fine\n",
        "\n",
        "sns.distplot(y_test-pred)"
      ],
      "execution_count": null,
      "outputs": [
        {
          "name": "stderr",
          "output_type": "stream",
          "text": [
            "/usr/local/lib/python3.7/dist-packages/seaborn/distributions.py:2557: FutureWarning: `distplot` is a deprecated function and will be removed in a future version. Please adapt your code to use either `displot` (a figure-level function with similar flexibility) or `histplot` (an axes-level function for histograms).\n",
            "  warnings.warn(msg, FutureWarning)\n"
          ]
        },
        {
          "data": {
            "text/plain": [
              "<matplotlib.axes._subplots.AxesSubplot at 0x7f30ae2581d0>"
            ]
          },
          "execution_count": null,
          "metadata": {},
          "output_type": "execute_result"
        },
        {
          "data": {
            "image/png": "[encoded data removed]",
            "text/plain": [
              "<Figure size 432x288 with 1 Axes>"
            ]
          },
          "metadata": {},
          "output_type": "display_data"
        }
      ]
    },
    {
      "cell_type": "code",
      "metadata": {
        "colab": {
          "background_save": true
        },
        "id": "DDsKkm1brbeS"
      },
      "source": [
        ""
      ],
      "execution_count": null,
      "outputs": []
    },
    {
      "cell_type": "code",
      "metadata": {
        "colab": {
          "background_save": true
        },
        "id": "83VBFHHNrgM_"
      },
      "source": [
        ""
      ],
      "execution_count": null,
      "outputs": []
    }
  ]
}